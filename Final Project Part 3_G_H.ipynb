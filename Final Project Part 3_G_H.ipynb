{
 "cells": [
  {
   "cell_type": "markdown",
   "metadata": {},
   "source": [
    "# Final Project Part 3: Technical Notebook"
   ]
  },
  {
   "cell_type": "markdown",
   "metadata": {},
   "source": [
    "**key:** <br>\n",
    "1. Blue dotted line = Notes\n",
    "2. Green dotted line = Main part of the document\n",
    "3. Red dotted line = parts with major errors or irrelevant information like the appendix"
   ]
  },
  {
   "cell_type": "markdown",
   "metadata": {},
   "source": [
    "<font color='blue'>------------------------------------------------------------------------------------------------------------------</font>"
   ]
  },
  {
   "cell_type": "markdown",
   "metadata": {},
   "source": [
    "## Notes "
   ]
  },
  {
   "cell_type": "markdown",
   "metadata": {},
   "source": [
    "**There are three documents in this final project series:** <br>\n",
    "1. Final Project Part 1&2_G_H <br>\n",
    "2. Final Project Part 3_G_H (this document) <br>\n",
    "3. Slides_Final_Project_Data_Graham_Herdman (My presentation) <br>"
   ]
  },
  {
   "cell_type": "markdown",
   "metadata": {},
   "source": [
    "<font color = 'blue'> This is part 1 and 2 of my final project that I completed and presented during my 10-week data science course at General Assembly (May 2018 - July 2018) </font> "
   ]
  },
  {
   "cell_type": "markdown",
   "metadata": {},
   "source": [
    "<font color = 'blue'> In hindsight there are many errors that I made when making this final project for the first time <br>\n",
    "<br>\n",
    "**Notable errors:** <br>\n",
    "<br>\n",
    "**PART 2:** <br>\n",
    "- **Not enough EDA:** This was my first time working with such a large data set so I had some trouble performing exploratory data analysis. I tried a wide array of techniques both before and after I accounted for missing values which unfortunately left the EDA section without much structure. In future projects I plan to make this section have a much more logical flow to it so that useful information can be accessed more quickly. <br> \n",
    "    \n",
    "**PART 3:** <br>\n",
    "- **Not accounting for confounding:** e.g. total_pymnt vs total_pymnt_inv. These two features were highly correlated with each other and therefore I should've choosen the most relevant feature (total_pymnt) and cut the other (total_pymnt_inv) in order to account for confounding variables in the data set. <br>  \n",
    "- **Not using hyper parameter tuning with Random Forest:** Although I found logistic regression to be the most useful classification model for predicting whether a loan would default or not, I believe the Random Forest model was not given a fair chance since I did not optimize it's hyper parameters. </font>"
   ]
  },
  {
   "cell_type": "markdown",
   "metadata": {},
   "source": [
    "<font color='blue'>------------------------------------------------------------------------------------------------------------------</font>"
   ]
  },
  {
   "cell_type": "markdown",
   "metadata": {},
   "source": [
    "<font color='green'>------------------------------------------------------------------------------------------------------------------</font>"
   ]
  },
  {
   "cell_type": "markdown",
   "metadata": {},
   "source": [
    "## 5) Clean Data: Data wrangling "
   ]
  },
  {
   "cell_type": "code",
   "execution_count": 1,
   "metadata": {},
   "outputs": [],
   "source": [
    "import pandas as pd\n",
    "import matplotlib.pyplot as plt\n",
    "import seaborn as sns\n",
    "import numpy as np\n",
    "import math\n",
    "%matplotlib inline"
   ]
  },
  {
   "cell_type": "code",
   "execution_count": 2,
   "metadata": {},
   "outputs": [],
   "source": [
    "# Read in the loans data and store it in a pandas DataFrame\n",
    "loans = pd.read_csv('./lending-club-loan-data/loan.csv', low_memory=False)"
   ]
  },
  {
   "cell_type": "markdown",
   "metadata": {},
   "source": [
    "### - MISSING VALUES"
   ]
  },
  {
   "cell_type": "markdown",
   "metadata": {},
   "source": [
    "- Have a list of assumptions I made when dealing with missing values \n",
    "<br>\n",
    "\n",
    "**General Assumptions** <br> \n",
    "1) All features with more than half of their data points as null could not provide sufficient information and were cut <br>\n",
    "2) Numeric nan variables were filled with the average of the columns <br>\n",
    "3) Categorical columns with missing values were replaced with other unless the column was a date or other didn't make sense for some reason. <br>\n",
    "<br>\n",
    "**Specific** <br>\n",
    "1) earliest_cr_line, last_pymnt_d, last_credit_pull_d = dropped the rows with nans  <br>\n",
    "2) next_pymnt_d = dropped the entire column since there were too many missing values, i.e. 1/4 of the values were missing  <br> \n",
    "<br>\n",
    "**Irelevant columns** <br>\n",
    "1) id <br>\n",
    "2) member_id <br>\n",
    "3) subgrade - too specific - simplicities sake<br>\n",
    "4) url <br>\n",
    "5) zip_code - too specific <br>\n",
    "6) Date Columns - too many variables - too hard to work with <br>\n",
    "<br>\n",
    "7) emp_title - too many values <br>\n",
    "8) title - too many values <br>\n",
    "<br>\n",
    "**Replacing Oridinal variables** <br>\n",
    "ordinal variables have a grading to them so I am replacing them with integers <br>\n",
    "<br>\n",
    "**MAKING THE PREDICTION SET VECTOR** <br>\n",
    "1) tried to make the proportion of positive and negatives similar <br>\n",
    "2) Binary Classes <br>\n",
    "- Default = Default + Charged-Off <br>\n",
    "- Fully Paid = Fully Paid <br>\n"
   ]
  },
  {
   "cell_type": "code",
   "execution_count": 3,
   "metadata": {},
   "outputs": [],
   "source": [
    "# saving original loan dataset\n",
    "loans_2 = loans"
   ]
  },
  {
   "cell_type": "markdown",
   "metadata": {},
   "source": [
    "**1. CUTTING FEATURES WITH TOO MANY MISSING VALUES**"
   ]
  },
  {
   "cell_type": "code",
   "execution_count": 4,
   "metadata": {},
   "outputs": [
    {
     "name": "stdout",
     "output_type": "stream",
     "text": [
      "('desc', 761351)\n",
      "('mths_since_last_delinq', 454312)\n",
      "('mths_since_last_record', 750326)\n",
      "('mths_since_last_major_derog', 665676)\n",
      "('annual_inc_joint', 886868)\n",
      "('dti_joint', 886870)\n",
      "('verification_status_joint', 886868)\n",
      "('open_acc_6m', 866007)\n",
      "('open_il_6m', 866007)\n",
      "('open_il_12m', 866007)\n",
      "('open_il_24m', 866007)\n",
      "('mths_since_rcnt_il', 866569)\n",
      "('total_bal_il', 866007)\n",
      "('il_util', 868762)\n",
      "('open_rv_12m', 866007)\n",
      "('open_rv_24m', 866007)\n",
      "('max_bal_bc', 866007)\n",
      "('all_util', 866007)\n",
      "('inq_fi', 866007)\n",
      "('total_cu_tl', 866007)\n",
      "('inq_last_12m', 866007)\n"
     ]
    },
    {
     "data": {
      "text/html": [
       "<div>\n",
       "<style scoped>\n",
       "    .dataframe tbody tr th:only-of-type {\n",
       "        vertical-align: middle;\n",
       "    }\n",
       "\n",
       "    .dataframe tbody tr th {\n",
       "        vertical-align: top;\n",
       "    }\n",
       "\n",
       "    .dataframe thead th {\n",
       "        text-align: right;\n",
       "    }\n",
       "</style>\n",
       "<table border=\"1\" class=\"dataframe\">\n",
       "  <thead>\n",
       "    <tr style=\"text-align: right;\">\n",
       "      <th></th>\n",
       "      <th>id</th>\n",
       "      <th>member_id</th>\n",
       "      <th>loan_amnt</th>\n",
       "      <th>funded_amnt</th>\n",
       "      <th>funded_amnt_inv</th>\n",
       "      <th>term</th>\n",
       "      <th>int_rate</th>\n",
       "      <th>installment</th>\n",
       "      <th>grade</th>\n",
       "      <th>sub_grade</th>\n",
       "      <th>...</th>\n",
       "      <th>last_pymnt_amnt</th>\n",
       "      <th>next_pymnt_d</th>\n",
       "      <th>last_credit_pull_d</th>\n",
       "      <th>collections_12_mths_ex_med</th>\n",
       "      <th>policy_code</th>\n",
       "      <th>application_type</th>\n",
       "      <th>acc_now_delinq</th>\n",
       "      <th>tot_coll_amt</th>\n",
       "      <th>tot_cur_bal</th>\n",
       "      <th>total_rev_hi_lim</th>\n",
       "    </tr>\n",
       "  </thead>\n",
       "  <tbody>\n",
       "    <tr>\n",
       "      <th>0</th>\n",
       "      <td>1077501</td>\n",
       "      <td>1296599</td>\n",
       "      <td>5000.0</td>\n",
       "      <td>5000.0</td>\n",
       "      <td>4975.0</td>\n",
       "      <td>36 months</td>\n",
       "      <td>10.65</td>\n",
       "      <td>162.87</td>\n",
       "      <td>B</td>\n",
       "      <td>B2</td>\n",
       "      <td>...</td>\n",
       "      <td>171.62</td>\n",
       "      <td>NaN</td>\n",
       "      <td>Jan-2016</td>\n",
       "      <td>0.0</td>\n",
       "      <td>1.0</td>\n",
       "      <td>INDIVIDUAL</td>\n",
       "      <td>0.0</td>\n",
       "      <td>NaN</td>\n",
       "      <td>NaN</td>\n",
       "      <td>NaN</td>\n",
       "    </tr>\n",
       "    <tr>\n",
       "      <th>1</th>\n",
       "      <td>1077430</td>\n",
       "      <td>1314167</td>\n",
       "      <td>2500.0</td>\n",
       "      <td>2500.0</td>\n",
       "      <td>2500.0</td>\n",
       "      <td>60 months</td>\n",
       "      <td>15.27</td>\n",
       "      <td>59.83</td>\n",
       "      <td>C</td>\n",
       "      <td>C4</td>\n",
       "      <td>...</td>\n",
       "      <td>119.66</td>\n",
       "      <td>NaN</td>\n",
       "      <td>Sep-2013</td>\n",
       "      <td>0.0</td>\n",
       "      <td>1.0</td>\n",
       "      <td>INDIVIDUAL</td>\n",
       "      <td>0.0</td>\n",
       "      <td>NaN</td>\n",
       "      <td>NaN</td>\n",
       "      <td>NaN</td>\n",
       "    </tr>\n",
       "    <tr>\n",
       "      <th>2</th>\n",
       "      <td>1077175</td>\n",
       "      <td>1313524</td>\n",
       "      <td>2400.0</td>\n",
       "      <td>2400.0</td>\n",
       "      <td>2400.0</td>\n",
       "      <td>36 months</td>\n",
       "      <td>15.96</td>\n",
       "      <td>84.33</td>\n",
       "      <td>C</td>\n",
       "      <td>C5</td>\n",
       "      <td>...</td>\n",
       "      <td>649.91</td>\n",
       "      <td>NaN</td>\n",
       "      <td>Jan-2016</td>\n",
       "      <td>0.0</td>\n",
       "      <td>1.0</td>\n",
       "      <td>INDIVIDUAL</td>\n",
       "      <td>0.0</td>\n",
       "      <td>NaN</td>\n",
       "      <td>NaN</td>\n",
       "      <td>NaN</td>\n",
       "    </tr>\n",
       "    <tr>\n",
       "      <th>3</th>\n",
       "      <td>1076863</td>\n",
       "      <td>1277178</td>\n",
       "      <td>10000.0</td>\n",
       "      <td>10000.0</td>\n",
       "      <td>10000.0</td>\n",
       "      <td>36 months</td>\n",
       "      <td>13.49</td>\n",
       "      <td>339.31</td>\n",
       "      <td>C</td>\n",
       "      <td>C1</td>\n",
       "      <td>...</td>\n",
       "      <td>357.48</td>\n",
       "      <td>NaN</td>\n",
       "      <td>Jan-2015</td>\n",
       "      <td>0.0</td>\n",
       "      <td>1.0</td>\n",
       "      <td>INDIVIDUAL</td>\n",
       "      <td>0.0</td>\n",
       "      <td>NaN</td>\n",
       "      <td>NaN</td>\n",
       "      <td>NaN</td>\n",
       "    </tr>\n",
       "    <tr>\n",
       "      <th>4</th>\n",
       "      <td>1075358</td>\n",
       "      <td>1311748</td>\n",
       "      <td>3000.0</td>\n",
       "      <td>3000.0</td>\n",
       "      <td>3000.0</td>\n",
       "      <td>60 months</td>\n",
       "      <td>12.69</td>\n",
       "      <td>67.79</td>\n",
       "      <td>B</td>\n",
       "      <td>B5</td>\n",
       "      <td>...</td>\n",
       "      <td>67.79</td>\n",
       "      <td>Feb-2016</td>\n",
       "      <td>Jan-2016</td>\n",
       "      <td>0.0</td>\n",
       "      <td>1.0</td>\n",
       "      <td>INDIVIDUAL</td>\n",
       "      <td>0.0</td>\n",
       "      <td>NaN</td>\n",
       "      <td>NaN</td>\n",
       "      <td>NaN</td>\n",
       "    </tr>\n",
       "  </tbody>\n",
       "</table>\n",
       "<p>5 rows × 53 columns</p>\n",
       "</div>"
      ],
      "text/plain": [
       "        id  member_id  loan_amnt  funded_amnt  funded_amnt_inv        term  \\\n",
       "0  1077501    1296599     5000.0       5000.0           4975.0   36 months   \n",
       "1  1077430    1314167     2500.0       2500.0           2500.0   60 months   \n",
       "2  1077175    1313524     2400.0       2400.0           2400.0   36 months   \n",
       "3  1076863    1277178    10000.0      10000.0          10000.0   36 months   \n",
       "4  1075358    1311748     3000.0       3000.0           3000.0   60 months   \n",
       "\n",
       "   int_rate  installment grade sub_grade       ...        last_pymnt_amnt  \\\n",
       "0     10.65       162.87     B        B2       ...                 171.62   \n",
       "1     15.27        59.83     C        C4       ...                 119.66   \n",
       "2     15.96        84.33     C        C5       ...                 649.91   \n",
       "3     13.49       339.31     C        C1       ...                 357.48   \n",
       "4     12.69        67.79     B        B5       ...                  67.79   \n",
       "\n",
       "  next_pymnt_d last_credit_pull_d  collections_12_mths_ex_med policy_code  \\\n",
       "0          NaN           Jan-2016                         0.0         1.0   \n",
       "1          NaN           Sep-2013                         0.0         1.0   \n",
       "2          NaN           Jan-2016                         0.0         1.0   \n",
       "3          NaN           Jan-2015                         0.0         1.0   \n",
       "4     Feb-2016           Jan-2016                         0.0         1.0   \n",
       "\n",
       "  application_type acc_now_delinq tot_coll_amt tot_cur_bal total_rev_hi_lim  \n",
       "0       INDIVIDUAL            0.0          NaN         NaN              NaN  \n",
       "1       INDIVIDUAL            0.0          NaN         NaN              NaN  \n",
       "2       INDIVIDUAL            0.0          NaN         NaN              NaN  \n",
       "3       INDIVIDUAL            0.0          NaN         NaN              NaN  \n",
       "4       INDIVIDUAL            0.0          NaN         NaN              NaN  \n",
       "\n",
       "[5 rows x 53 columns]"
      ]
     },
     "execution_count": 4,
     "metadata": {},
     "output_type": "execute_result"
    }
   ],
   "source": [
    "# cutting half all variables with half missing values\n",
    "# discard columns with more than 443690 null values\n",
    "\n",
    "columns = loans_2.columns.tolist()\n",
    "null_values = loans_2.isnull().sum().tolist()\n",
    "\n",
    "for f in zip(columns, null_values):\n",
    "    if f[1] >= 443690:\n",
    "        print(f)\n",
    "        loans_2.drop([f[0]], axis=1, inplace=True)\n",
    "        \n",
    "loans_2.head(5)"
   ]
  },
  {
   "cell_type": "markdown",
   "metadata": {},
   "source": [
    "**2. REPLACING NUMERIC NANS WITH AVERAGE OF THE COLUMN**"
   ]
  },
  {
   "cell_type": "code",
   "execution_count": 5,
   "metadata": {},
   "outputs": [],
   "source": [
    "def myfillna(series):\n",
    "    if series.dtype is pd.np.dtype(float):\n",
    "        return series.fillna(series.mean())\n",
    "    else:\n",
    "        return series"
   ]
  },
  {
   "cell_type": "code",
   "execution_count": 6,
   "metadata": {},
   "outputs": [],
   "source": [
    "# new dataframe for safety sake hahha\n",
    "loans_3 = loans_2.apply(myfillna)"
   ]
  },
  {
   "cell_type": "code",
   "execution_count": 7,
   "metadata": {},
   "outputs": [
    {
     "data": {
      "text/html": [
       "<div>\n",
       "<style scoped>\n",
       "    .dataframe tbody tr th:only-of-type {\n",
       "        vertical-align: middle;\n",
       "    }\n",
       "\n",
       "    .dataframe tbody tr th {\n",
       "        vertical-align: top;\n",
       "    }\n",
       "\n",
       "    .dataframe thead th {\n",
       "        text-align: right;\n",
       "    }\n",
       "</style>\n",
       "<table border=\"1\" class=\"dataframe\">\n",
       "  <thead>\n",
       "    <tr style=\"text-align: right;\">\n",
       "      <th></th>\n",
       "      <th>id</th>\n",
       "      <th>member_id</th>\n",
       "      <th>loan_amnt</th>\n",
       "      <th>funded_amnt</th>\n",
       "      <th>funded_amnt_inv</th>\n",
       "      <th>term</th>\n",
       "      <th>int_rate</th>\n",
       "      <th>installment</th>\n",
       "      <th>grade</th>\n",
       "      <th>sub_grade</th>\n",
       "      <th>...</th>\n",
       "      <th>last_pymnt_amnt</th>\n",
       "      <th>next_pymnt_d</th>\n",
       "      <th>last_credit_pull_d</th>\n",
       "      <th>collections_12_mths_ex_med</th>\n",
       "      <th>policy_code</th>\n",
       "      <th>application_type</th>\n",
       "      <th>acc_now_delinq</th>\n",
       "      <th>tot_coll_amt</th>\n",
       "      <th>tot_cur_bal</th>\n",
       "      <th>total_rev_hi_lim</th>\n",
       "    </tr>\n",
       "  </thead>\n",
       "  <tbody>\n",
       "    <tr>\n",
       "      <th>0</th>\n",
       "      <td>1077501</td>\n",
       "      <td>1296599</td>\n",
       "      <td>5000.0</td>\n",
       "      <td>5000.0</td>\n",
       "      <td>4975.0</td>\n",
       "      <td>36 months</td>\n",
       "      <td>10.65</td>\n",
       "      <td>162.87</td>\n",
       "      <td>B</td>\n",
       "      <td>B2</td>\n",
       "      <td>...</td>\n",
       "      <td>171.62</td>\n",
       "      <td>NaN</td>\n",
       "      <td>Jan-2016</td>\n",
       "      <td>0.0</td>\n",
       "      <td>1.0</td>\n",
       "      <td>INDIVIDUAL</td>\n",
       "      <td>0.0</td>\n",
       "      <td>225.70261</td>\n",
       "      <td>139458.189336</td>\n",
       "      <td>32068.620045</td>\n",
       "    </tr>\n",
       "    <tr>\n",
       "      <th>1</th>\n",
       "      <td>1077430</td>\n",
       "      <td>1314167</td>\n",
       "      <td>2500.0</td>\n",
       "      <td>2500.0</td>\n",
       "      <td>2500.0</td>\n",
       "      <td>60 months</td>\n",
       "      <td>15.27</td>\n",
       "      <td>59.83</td>\n",
       "      <td>C</td>\n",
       "      <td>C4</td>\n",
       "      <td>...</td>\n",
       "      <td>119.66</td>\n",
       "      <td>NaN</td>\n",
       "      <td>Sep-2013</td>\n",
       "      <td>0.0</td>\n",
       "      <td>1.0</td>\n",
       "      <td>INDIVIDUAL</td>\n",
       "      <td>0.0</td>\n",
       "      <td>225.70261</td>\n",
       "      <td>139458.189336</td>\n",
       "      <td>32068.620045</td>\n",
       "    </tr>\n",
       "    <tr>\n",
       "      <th>2</th>\n",
       "      <td>1077175</td>\n",
       "      <td>1313524</td>\n",
       "      <td>2400.0</td>\n",
       "      <td>2400.0</td>\n",
       "      <td>2400.0</td>\n",
       "      <td>36 months</td>\n",
       "      <td>15.96</td>\n",
       "      <td>84.33</td>\n",
       "      <td>C</td>\n",
       "      <td>C5</td>\n",
       "      <td>...</td>\n",
       "      <td>649.91</td>\n",
       "      <td>NaN</td>\n",
       "      <td>Jan-2016</td>\n",
       "      <td>0.0</td>\n",
       "      <td>1.0</td>\n",
       "      <td>INDIVIDUAL</td>\n",
       "      <td>0.0</td>\n",
       "      <td>225.70261</td>\n",
       "      <td>139458.189336</td>\n",
       "      <td>32068.620045</td>\n",
       "    </tr>\n",
       "    <tr>\n",
       "      <th>3</th>\n",
       "      <td>1076863</td>\n",
       "      <td>1277178</td>\n",
       "      <td>10000.0</td>\n",
       "      <td>10000.0</td>\n",
       "      <td>10000.0</td>\n",
       "      <td>36 months</td>\n",
       "      <td>13.49</td>\n",
       "      <td>339.31</td>\n",
       "      <td>C</td>\n",
       "      <td>C1</td>\n",
       "      <td>...</td>\n",
       "      <td>357.48</td>\n",
       "      <td>NaN</td>\n",
       "      <td>Jan-2015</td>\n",
       "      <td>0.0</td>\n",
       "      <td>1.0</td>\n",
       "      <td>INDIVIDUAL</td>\n",
       "      <td>0.0</td>\n",
       "      <td>225.70261</td>\n",
       "      <td>139458.189336</td>\n",
       "      <td>32068.620045</td>\n",
       "    </tr>\n",
       "    <tr>\n",
       "      <th>4</th>\n",
       "      <td>1075358</td>\n",
       "      <td>1311748</td>\n",
       "      <td>3000.0</td>\n",
       "      <td>3000.0</td>\n",
       "      <td>3000.0</td>\n",
       "      <td>60 months</td>\n",
       "      <td>12.69</td>\n",
       "      <td>67.79</td>\n",
       "      <td>B</td>\n",
       "      <td>B5</td>\n",
       "      <td>...</td>\n",
       "      <td>67.79</td>\n",
       "      <td>Feb-2016</td>\n",
       "      <td>Jan-2016</td>\n",
       "      <td>0.0</td>\n",
       "      <td>1.0</td>\n",
       "      <td>INDIVIDUAL</td>\n",
       "      <td>0.0</td>\n",
       "      <td>225.70261</td>\n",
       "      <td>139458.189336</td>\n",
       "      <td>32068.620045</td>\n",
       "    </tr>\n",
       "  </tbody>\n",
       "</table>\n",
       "<p>5 rows × 53 columns</p>\n",
       "</div>"
      ],
      "text/plain": [
       "        id  member_id  loan_amnt  funded_amnt  funded_amnt_inv        term  \\\n",
       "0  1077501    1296599     5000.0       5000.0           4975.0   36 months   \n",
       "1  1077430    1314167     2500.0       2500.0           2500.0   60 months   \n",
       "2  1077175    1313524     2400.0       2400.0           2400.0   36 months   \n",
       "3  1076863    1277178    10000.0      10000.0          10000.0   36 months   \n",
       "4  1075358    1311748     3000.0       3000.0           3000.0   60 months   \n",
       "\n",
       "   int_rate  installment grade sub_grade       ...        last_pymnt_amnt  \\\n",
       "0     10.65       162.87     B        B2       ...                 171.62   \n",
       "1     15.27        59.83     C        C4       ...                 119.66   \n",
       "2     15.96        84.33     C        C5       ...                 649.91   \n",
       "3     13.49       339.31     C        C1       ...                 357.48   \n",
       "4     12.69        67.79     B        B5       ...                  67.79   \n",
       "\n",
       "  next_pymnt_d last_credit_pull_d  collections_12_mths_ex_med policy_code  \\\n",
       "0          NaN           Jan-2016                         0.0         1.0   \n",
       "1          NaN           Sep-2013                         0.0         1.0   \n",
       "2          NaN           Jan-2016                         0.0         1.0   \n",
       "3          NaN           Jan-2015                         0.0         1.0   \n",
       "4     Feb-2016           Jan-2016                         0.0         1.0   \n",
       "\n",
       "  application_type acc_now_delinq tot_coll_amt    tot_cur_bal total_rev_hi_lim  \n",
       "0       INDIVIDUAL            0.0    225.70261  139458.189336     32068.620045  \n",
       "1       INDIVIDUAL            0.0    225.70261  139458.189336     32068.620045  \n",
       "2       INDIVIDUAL            0.0    225.70261  139458.189336     32068.620045  \n",
       "3       INDIVIDUAL            0.0    225.70261  139458.189336     32068.620045  \n",
       "4       INDIVIDUAL            0.0    225.70261  139458.189336     32068.620045  \n",
       "\n",
       "[5 rows x 53 columns]"
      ]
     },
     "execution_count": 7,
     "metadata": {},
     "output_type": "execute_result"
    }
   ],
   "source": [
    "loans_3.head()"
   ]
  },
  {
   "cell_type": "code",
   "execution_count": 8,
   "metadata": {
    "scrolled": true
   },
   "outputs": [
    {
     "data": {
      "text/plain": [
       "id                                 0\n",
       "member_id                          0\n",
       "loan_amnt                          0\n",
       "funded_amnt                        0\n",
       "funded_amnt_inv                    0\n",
       "term                               0\n",
       "int_rate                           0\n",
       "installment                        0\n",
       "grade                              0\n",
       "sub_grade                          0\n",
       "emp_title                      51462\n",
       "emp_length                     44825\n",
       "home_ownership                     0\n",
       "annual_inc                         0\n",
       "verification_status                0\n",
       "issue_d                            0\n",
       "loan_status                        0\n",
       "pymnt_plan                         0\n",
       "url                                0\n",
       "purpose                            0\n",
       "title                            152\n",
       "zip_code                           0\n",
       "addr_state                         0\n",
       "dti                                0\n",
       "delinq_2yrs                        0\n",
       "earliest_cr_line                  29\n",
       "inq_last_6mths                     0\n",
       "open_acc                           0\n",
       "pub_rec                            0\n",
       "revol_bal                          0\n",
       "revol_util                         0\n",
       "total_acc                          0\n",
       "initial_list_status                0\n",
       "out_prncp                          0\n",
       "out_prncp_inv                      0\n",
       "total_pymnt                        0\n",
       "total_pymnt_inv                    0\n",
       "total_rec_prncp                    0\n",
       "total_rec_int                      0\n",
       "total_rec_late_fee                 0\n",
       "recoveries                         0\n",
       "collection_recovery_fee            0\n",
       "last_pymnt_d                   17659\n",
       "last_pymnt_amnt                    0\n",
       "next_pymnt_d                  252971\n",
       "last_credit_pull_d                53\n",
       "collections_12_mths_ex_med         0\n",
       "policy_code                        0\n",
       "application_type                   0\n",
       "acc_now_delinq                     0\n",
       "tot_coll_amt                       0\n",
       "tot_cur_bal                        0\n",
       "total_rev_hi_lim                   0\n",
       "dtype: int64"
      ]
     },
     "execution_count": 8,
     "metadata": {},
     "output_type": "execute_result"
    }
   ],
   "source": [
    "loans_3.isnull().sum()"
   ]
  },
  {
   "cell_type": "markdown",
   "metadata": {},
   "source": [
    "**3. DROPPING SUPERFLUOUS COLUMNS**"
   ]
  },
  {
   "cell_type": "code",
   "execution_count": 9,
   "metadata": {},
   "outputs": [],
   "source": [
    "# id\n",
    "loans_3.drop([\"id\"], axis=1, inplace=True) "
   ]
  },
  {
   "cell_type": "code",
   "execution_count": 10,
   "metadata": {},
   "outputs": [],
   "source": [
    "# member_id\n",
    "loans_3.drop([\"member_id\"], axis=1, inplace=True) "
   ]
  },
  {
   "cell_type": "code",
   "execution_count": 11,
   "metadata": {},
   "outputs": [],
   "source": [
    "# subgrade\n",
    "loans_3.drop([\"sub_grade\"], axis=1, inplace=True)"
   ]
  },
  {
   "cell_type": "code",
   "execution_count": 12,
   "metadata": {},
   "outputs": [],
   "source": [
    "# url\n",
    "loans_3.drop([\"url\"], axis=1, inplace=True) "
   ]
  },
  {
   "cell_type": "code",
   "execution_count": 13,
   "metadata": {},
   "outputs": [],
   "source": [
    "# zip_code\n",
    "loans_3.drop([\"zip_code\"], axis=1, inplace=True) "
   ]
  },
  {
   "cell_type": "code",
   "execution_count": 14,
   "metadata": {},
   "outputs": [],
   "source": [
    "# earliest_cr_line\n",
    "loans_3.drop([\"earliest_cr_line\"], axis=1, inplace=True) "
   ]
  },
  {
   "cell_type": "code",
   "execution_count": 15,
   "metadata": {},
   "outputs": [],
   "source": [
    "# last_pymnt_d\n",
    "loans_3.drop([\"last_pymnt_d\"], axis=1, inplace=True) "
   ]
  },
  {
   "cell_type": "code",
   "execution_count": 16,
   "metadata": {},
   "outputs": [],
   "source": [
    "# last_credit_pull_d\n",
    "loans_3.drop([\"last_credit_pull_d\"], axis=1, inplace=True) "
   ]
  },
  {
   "cell_type": "code",
   "execution_count": 17,
   "metadata": {},
   "outputs": [],
   "source": [
    "# issue_d\n",
    "loans_3.drop([\"issue_d\"], axis=1, inplace=True) "
   ]
  },
  {
   "cell_type": "markdown",
   "metadata": {},
   "source": [
    "**4. DEALING WITH CATEGORICAL MISSING VALUES**"
   ]
  },
  {
   "cell_type": "markdown",
   "metadata": {},
   "source": [
    "**- Replacing Values**"
   ]
  },
  {
   "cell_type": "markdown",
   "metadata": {},
   "source": [
    "**emp_title: Replace Missing values**\n",
    "- The job title supplied by the Borrower when applying for the loan."
   ]
  },
  {
   "cell_type": "code",
   "execution_count": 18,
   "metadata": {},
   "outputs": [],
   "source": [
    "# fill in missing values of emp_title with other\n",
    "loans_3.emp_title.fillna(value='other', inplace=True)"
   ]
  },
  {
   "cell_type": "markdown",
   "metadata": {},
   "source": [
    "**emp_length: Replace Missing values**\n",
    "- Employment length in years. Possible values are between 0 and 10 where 0 means less than one year and 10 means ten or more years. "
   ]
  },
  {
   "cell_type": "code",
   "execution_count": 19,
   "metadata": {},
   "outputs": [],
   "source": [
    "emp_length_dict = {'n/a':0,\n",
    "                   '< 1 year':0,\n",
    "                   '1 year':1,\n",
    "                   '2 years':2,\n",
    "                   '3 years':3,\n",
    "                   '4 years':4,\n",
    "                   '5 years':5,\n",
    "                   '6 years':6,\n",
    "                   '7 years':7,\n",
    "                   '8 years':8,\n",
    "                   '9 years':9,\n",
    "                   '10+ years':10}"
   ]
  },
  {
   "cell_type": "code",
   "execution_count": 20,
   "metadata": {
    "scrolled": true
   },
   "outputs": [],
   "source": [
    "loans_3.emp_length.replace(emp_length_dict, inplace=True)"
   ]
  },
  {
   "cell_type": "code",
   "execution_count": 21,
   "metadata": {},
   "outputs": [],
   "source": [
    "mean = float(int(loans_3.emp_length.mean()))\n",
    "\n",
    "loans_3.emp_length.fillna(value=mean, inplace=True)"
   ]
  },
  {
   "cell_type": "markdown",
   "metadata": {},
   "source": [
    "**title: Replace Missing values**\n",
    "- The loan title provided by the borrower"
   ]
  },
  {
   "cell_type": "code",
   "execution_count": 22,
   "metadata": {},
   "outputs": [],
   "source": [
    "# replace title nans with other\n",
    "loans_3.title.fillna(value=\"other\", inplace=True)"
   ]
  },
  {
   "cell_type": "markdown",
   "metadata": {},
   "source": [
    "**- Dropping Columns**"
   ]
  },
  {
   "cell_type": "markdown",
   "metadata": {},
   "source": [
    "**next_pymnt_d: Drop\n",
    "column - too many missing values**"
   ]
  },
  {
   "cell_type": "code",
   "execution_count": 23,
   "metadata": {},
   "outputs": [],
   "source": [
    "# drop the column \n",
    "loans_3.drop([\"next_pymnt_d\"], axis=1, inplace=True)"
   ]
  },
  {
   "cell_type": "markdown",
   "metadata": {},
   "source": [
    "NO MORE NANs!"
   ]
  },
  {
   "cell_type": "markdown",
   "metadata": {},
   "source": [
    "### - CLEANING DATA"
   ]
  },
  {
   "cell_type": "markdown",
   "metadata": {},
   "source": [
    "**5. REPLACING ORDINAL VARIABLES**"
   ]
  },
  {
   "cell_type": "code",
   "execution_count": 24,
   "metadata": {},
   "outputs": [],
   "source": [
    "cleanup_grade = {\"A\": 7, \"B\": 6, \"C\": 5, \"D\": 4, \n",
    "                                  \"E\": 3, \"F\": 2, \"G\": 1}"
   ]
  },
  {
   "cell_type": "code",
   "execution_count": 25,
   "metadata": {},
   "outputs": [],
   "source": [
    "loans_3.grade.replace(cleanup_grade, inplace=True)"
   ]
  },
  {
   "cell_type": "markdown",
   "metadata": {},
   "source": [
    "**6. REPLACING LOAN STATUS WITH TWO CLASSES**"
   ]
  },
  {
   "cell_type": "code",
   "execution_count": 26,
   "metadata": {},
   "outputs": [
    {
     "data": {
      "text/plain": [
       "Current                                                601779\n",
       "Fully Paid                                             207723\n",
       "Charged Off                                             45248\n",
       "Late (31-120 days)                                      11591\n",
       "Issued                                                   8460\n",
       "In Grace Period                                          6253\n",
       "Late (16-30 days)                                        2357\n",
       "Does not meet the credit policy. Status:Fully Paid       1988\n",
       "Default                                                  1219\n",
       "Does not meet the credit policy. Status:Charged Off       761\n",
       "Name: loan_status, dtype: int64"
      ]
     },
     "execution_count": 26,
     "metadata": {},
     "output_type": "execute_result"
    }
   ],
   "source": [
    "loans_3.loan_status.value_counts()"
   ]
  },
  {
   "cell_type": "code",
   "execution_count": 27,
   "metadata": {},
   "outputs": [],
   "source": [
    "drop = True"
   ]
  },
  {
   "cell_type": "code",
   "execution_count": 28,
   "metadata": {},
   "outputs": [],
   "source": [
    "if drop:\n",
    "    loans_3 = loans_3[~loans_3['loan_status'].isin(['Current', \n",
    "                                                    'Late (31-120 days)', 'Issued',\n",
    "                                                   'In Grace Period', 'Late (16-30 days)',\n",
    "                                                   'Does not meet the credit policy. Status:Fully Paid',\n",
    "                                                   'Does not meet the credit policy. Status:Charged Off'])] \n",
    "    "
   ]
  },
  {
   "cell_type": "code",
   "execution_count": 29,
   "metadata": {},
   "outputs": [],
   "source": [
    "# replace all instances of a value in a column (must match entire value)\n",
    "loans_3.loan_status.replace({'Charged Off': 'Default'}, inplace=True)"
   ]
  },
  {
   "cell_type": "code",
   "execution_count": 30,
   "metadata": {
    "scrolled": true
   },
   "outputs": [
    {
     "data": {
      "text/plain": [
       "Fully Paid    207723\n",
       "Default        46467\n",
       "Name: loan_status, dtype: int64"
      ]
     },
     "execution_count": 30,
     "metadata": {},
     "output_type": "execute_result"
    }
   ],
   "source": [
    "loans_3.loan_status.value_counts()"
   ]
  },
  {
   "cell_type": "code",
   "execution_count": 31,
   "metadata": {},
   "outputs": [],
   "source": [
    "# change the loan_status so that the defaults can be summed\n",
    "loans_3[\"loan_status_num\"] = loans_3.loan_status.apply(lambda x : 1 if x == \"Default\" else 0)\n"
   ]
  },
  {
   "cell_type": "markdown",
   "metadata": {},
   "source": [
    "**7. REPLACING CATEGORICAL VARIABLES WITH DUMMY VARIABLES**"
   ]
  },
  {
   "cell_type": "code",
   "execution_count": 32,
   "metadata": {},
   "outputs": [],
   "source": [
    "# Make a object dataframe\n",
    "obj_df = loans_3.select_dtypes(include=['object']).copy()"
   ]
  },
  {
   "cell_type": "code",
   "execution_count": 33,
   "metadata": {},
   "outputs": [
    {
     "data": {
      "text/plain": [
       "term                   object\n",
       "emp_title              object\n",
       "home_ownership         object\n",
       "verification_status    object\n",
       "loan_status            object\n",
       "pymnt_plan             object\n",
       "purpose                object\n",
       "title                  object\n",
       "addr_state             object\n",
       "initial_list_status    object\n",
       "application_type       object\n",
       "dtype: object"
      ]
     },
     "execution_count": 33,
     "metadata": {},
     "output_type": "execute_result"
    }
   ],
   "source": [
    "obj_df.dtypes"
   ]
  },
  {
   "cell_type": "code",
   "execution_count": 34,
   "metadata": {},
   "outputs": [
    {
     "name": "stdout",
     "output_type": "stream",
     "text": [
      "\n",
      "term\n",
      " 36 months    197373\n",
      " 60 months     56817\n",
      "Name: term, dtype: int64\n",
      "\n",
      "\n",
      "emp_title\n",
      "other                                   14011\n",
      "Manager                                  1959\n",
      "Teacher                                  1927\n",
      "Supervisor                                863\n",
      "Registered Nurse                          848\n",
      "RN                                        844\n",
      "Sales                                     685\n",
      "Project Manager                           670\n",
      "manager                                   590\n",
      "Office Manager                            571\n",
      "Driver                                    543\n",
      "Director                                  508\n",
      "Engineer                                  471\n",
      "Owner                                     468\n",
      "US Army                                   458\n",
      "General Manager                           450\n",
      "teacher                                   396\n",
      "driver                                    384\n",
      "Vice President                            380\n",
      "Accountant                                358\n",
      "Bank of America                           347\n",
      "Operations Manager                        345\n",
      "Administrative Assistant                  332\n",
      "supervisor                                322\n",
      "Police Officer                            318\n",
      "Account Manager                           314\n",
      "Executive Assistant                       313\n",
      "Attorney                                  298\n",
      "Analyst                                   294\n",
      "President                                 282\n",
      "                                        ...  \n",
      "N2N Secure Inc.                             1\n",
      "Pro Account Manager                         1\n",
      "CIGNA HOME DELIVERY                         1\n",
      "chandler garage door services               1\n",
      "Parrish Construction Group                  1\n",
      "Schneider Packaging Equipment               1\n",
      "University of Wisconsin Stout               1\n",
      "Mountain View Community Television          1\n",
      "Fresh Start Family Services, LLC            1\n",
      "Department of the Army Civil Service        1\n",
      "State Insurance Fund                        1\n",
      "Dental Wellness at Dry Creek                1\n",
      "fill tech 3                                 1\n",
      "Sr. Product  Manager                        1\n",
      "Valeo Engine Cooling                        1\n",
      "ellwood city forge                          1\n",
      "Tesla                                       1\n",
      "Zobrist Consulting Group                    1\n",
      "VaLogic, LLC                                1\n",
      "Tekserve, inc                               1\n",
      "Tortorici Orthodontic Lab. Inc.             1\n",
      "Sears Automotive                            1\n",
      "B & G Foods                                 1\n",
      "AAA/Energy Insurance Agency                 1\n",
      "Care cycle solutions                        1\n",
      "Rowland USD                                 1\n",
      "Ratner Companies-Haircuttery                1\n",
      "KTR Corporation                             1\n",
      "nysdoccs                                    1\n",
      "Paradigm Precision,LLC                      1\n",
      "Name: emp_title, Length: 133190, dtype: int64\n",
      "\n",
      "\n",
      "home_ownership\n",
      "MORTGAGE    125342\n",
      "RENT        106568\n",
      "OWN          22095\n",
      "OTHER          141\n",
      "NONE            43\n",
      "ANY              1\n",
      "Name: home_ownership, dtype: int64\n",
      "\n",
      "\n",
      "verification_status\n",
      "Verified           93375\n",
      "Not Verified       86342\n",
      "Source Verified    74473\n",
      "Name: verification_status, dtype: int64\n",
      "\n",
      "\n",
      "loan_status\n",
      "Fully Paid    207723\n",
      "Default        46467\n",
      "Name: loan_status, dtype: int64\n",
      "\n",
      "\n",
      "pymnt_plan\n",
      "n    254188\n",
      "y         2\n",
      "Name: pymnt_plan, dtype: int64\n",
      "\n",
      "\n",
      "purpose\n",
      "debt_consolidation    149153\n",
      "credit_card            50309\n",
      "home_improvement       14976\n",
      "other                  14342\n",
      "major_purchase          6279\n",
      "small_business          4765\n",
      "car                     3656\n",
      "medical                 2869\n",
      "moving                  2039\n",
      "wedding                 1955\n",
      "house                   1659\n",
      "vacation                1596\n",
      "educational              325\n",
      "renewable_energy         267\n",
      "Name: purpose, dtype: int64\n",
      "\n",
      "\n",
      "title\n",
      "Debt consolidation                          72755\n",
      "Credit card refinancing                     22989\n",
      "Debt Consolidation                          11107\n",
      "Home improvement                             6780\n",
      "Other                                        6087\n",
      "Consolidation                                3576\n",
      "debt consolidation                           3219\n",
      "Debt Consolidation Loan                      3059\n",
      "Major purchase                               2171\n",
      "Business                                     1759\n",
      "Credit Card Consolidation                    1630\n",
      "Personal Loan                                1609\n",
      "Medical expenses                             1385\n",
      "consolidation                                1381\n",
      "Home Improvement                             1246\n",
      "Consolidation Loan                           1203\n",
      "Car financing                                 983\n",
      "Credit Card Refinance                         975\n",
      "Credit Card Payoff                            887\n",
      "Vacation                                      870\n",
      "Personal                                      856\n",
      "Consolidate                                   831\n",
      "Moving and relocation                         815\n",
      "Loan                                          727\n",
      "Home buying                                   623\n",
      "Credit Card Loan                              621\n",
      "personal loan                                 563\n",
      "personal                                      562\n",
      "Freedom                                       505\n",
      "consolidate                                   492\n",
      "                                            ...  \n",
      "Consolidating for one easy monthly pymt         1\n",
      "saving Rico                                     1\n",
      "Andrew Personal                                 1\n",
      "Debt consolidating loan                         1\n",
      "creadit card loan                               1\n",
      "16X32 Pool                                      1\n",
      "doing it right                                  1\n",
      "Pay off wedding debt                            1\n",
      "cancan                                          1\n",
      "my home improvement                             1\n",
      "Help me be debt free!                           1\n",
      "House Selloff                                   1\n",
      "Medical Expenses & Credit Card Refinance        1\n",
      "Pay off and be done                             1\n",
      "401krepay                                       1\n",
      "Wedding Fund Consolidation                      1\n",
      "Goodbye 29%                                     1\n",
      "Better Margins!                                 1\n",
      "Tuition Debt Consolidation                      1\n",
      "Out of debt quicker                             1\n",
      "Various Personal Needs                          1\n",
      "Attorneys Fees                                  1\n",
      "Help my self                                    1\n",
      "Refinancing vacation property                   1\n",
      "HONDA                                           1\n",
      "Consolidation Loan Needed                       1\n",
      "2011 Resolutions                                1\n",
      "Sky                                             1\n",
      "Getting Free of Debt                            1\n",
      "coolheatsleep                                   1\n",
      "Name: title, Length: 47973, dtype: int64\n",
      "\n",
      "\n",
      "addr_state\n",
      "CA    43321\n",
      "NY    21444\n",
      "TX    19454\n",
      "FL    17640\n",
      "NJ     9650\n",
      "IL     9281\n",
      "PA     8438\n",
      "GA     8050\n",
      "VA     7971\n",
      "OH     7778\n",
      "NC     6952\n",
      "MA     6168\n",
      "AZ     6116\n",
      "MD     6030\n",
      "MI     6028\n",
      "WA     5937\n",
      "CO     5638\n",
      "MN     4480\n",
      "MO     3970\n",
      "NV     3836\n",
      "CT     3689\n",
      "OR     3361\n",
      "AL     3156\n",
      "WI     3092\n",
      "LA     2970\n",
      "SC     2833\n",
      "IN     2819\n",
      "TN     2448\n",
      "KY     2283\n",
      "OK     2139\n",
      "UT     2120\n",
      "KS     2088\n",
      "AR     1762\n",
      "HI     1486\n",
      "NM     1385\n",
      "NH     1151\n",
      "WV     1143\n",
      "RI     1092\n",
      "DC      839\n",
      "MT      742\n",
      "DE      672\n",
      "AK      665\n",
      "WY      603\n",
      "SD      545\n",
      "VT      429\n",
      "MS      425\n",
      "NE       38\n",
      "ME       13\n",
      "ND        8\n",
      "ID        6\n",
      "IA        6\n",
      "Name: addr_state, dtype: int64\n",
      "\n",
      "\n",
      "initial_list_status\n",
      "f    182747\n",
      "w     71443\n",
      "Name: initial_list_status, dtype: int64\n",
      "\n",
      "\n",
      "application_type\n",
      "INDIVIDUAL    254189\n",
      "JOINT              1\n",
      "Name: application_type, dtype: int64\n",
      "\n"
     ]
    }
   ],
   "source": [
    "obj_columns = obj_df.columns.tolist()\n",
    "\n",
    "for o in obj_columns:\n",
    "    print()\n",
    "    print(o)\n",
    "    print(obj_df[o].value_counts())\n",
    "    print()"
   ]
  },
  {
   "cell_type": "markdown",
   "metadata": {},
   "source": [
    "From this emp_title and title are too big and need to be dropped"
   ]
  },
  {
   "cell_type": "code",
   "execution_count": 35,
   "metadata": {},
   "outputs": [],
   "source": [
    "# drop emp_title\n",
    "loans_3.drop([\"emp_title\"], axis=1, inplace=True)"
   ]
  },
  {
   "cell_type": "code",
   "execution_count": 36,
   "metadata": {},
   "outputs": [],
   "source": [
    "# drop title\n",
    "loans_3.drop([\"title\"], axis=1, inplace=True)"
   ]
  },
  {
   "cell_type": "markdown",
   "metadata": {},
   "source": [
    "**- REMOVE HIGHLY CORRELATED VARIABLES**"
   ]
  },
  {
   "cell_type": "code",
   "execution_count": 37,
   "metadata": {},
   "outputs": [],
   "source": [
    "# Recoveries is the amount recovered after a charge off so will only be related to charge off \n",
    "# classes\n",
    "loans_3.drop([\"recoveries\"], axis=1, inplace=True)"
   ]
  },
  {
   "cell_type": "code",
   "execution_count": 38,
   "metadata": {},
   "outputs": [],
   "source": [
    "loans_3.drop([\"collection_recovery_fee\"], axis=1, inplace=True)"
   ]
  },
  {
   "cell_type": "markdown",
   "metadata": {},
   "source": [
    "**- Making Dummy Variables**"
   ]
  },
  {
   "cell_type": "code",
   "execution_count": 39,
   "metadata": {},
   "outputs": [],
   "source": [
    "# new dataframe to be safe\n",
    "loans_4 = pd.get_dummies(loans_3)"
   ]
  },
  {
   "cell_type": "code",
   "execution_count": 40,
   "metadata": {},
   "outputs": [],
   "source": [
    "# drop dummies for loan_status\n",
    "loans_4.drop([\"loan_status_Fully Paid\"], axis=1, inplace=True)"
   ]
  },
  {
   "cell_type": "code",
   "execution_count": 41,
   "metadata": {},
   "outputs": [],
   "source": [
    "# drop dummies for loan_status\n",
    "loans_4.drop([\"loan_status_Default\"], axis=1, inplace=True)"
   ]
  },
  {
   "cell_type": "markdown",
   "metadata": {},
   "source": [
    "## 6) Normalise and Scale"
   ]
  },
  {
   "cell_type": "code",
   "execution_count": 42,
   "metadata": {},
   "outputs": [
    {
     "data": {
      "text/html": [
       "<div>\n",
       "<style scoped>\n",
       "    .dataframe tbody tr th:only-of-type {\n",
       "        vertical-align: middle;\n",
       "    }\n",
       "\n",
       "    .dataframe tbody tr th {\n",
       "        vertical-align: top;\n",
       "    }\n",
       "\n",
       "    .dataframe thead th {\n",
       "        text-align: right;\n",
       "    }\n",
       "</style>\n",
       "<table border=\"1\" class=\"dataframe\">\n",
       "  <thead>\n",
       "    <tr style=\"text-align: right;\">\n",
       "      <th></th>\n",
       "      <th>loan_amnt</th>\n",
       "      <th>funded_amnt</th>\n",
       "      <th>funded_amnt_inv</th>\n",
       "      <th>int_rate</th>\n",
       "      <th>installment</th>\n",
       "      <th>grade</th>\n",
       "      <th>emp_length</th>\n",
       "      <th>annual_inc</th>\n",
       "      <th>dti</th>\n",
       "      <th>delinq_2yrs</th>\n",
       "      <th>...</th>\n",
       "      <th>addr_state_VA</th>\n",
       "      <th>addr_state_VT</th>\n",
       "      <th>addr_state_WA</th>\n",
       "      <th>addr_state_WI</th>\n",
       "      <th>addr_state_WV</th>\n",
       "      <th>addr_state_WY</th>\n",
       "      <th>initial_list_status_f</th>\n",
       "      <th>initial_list_status_w</th>\n",
       "      <th>application_type_INDIVIDUAL</th>\n",
       "      <th>application_type_JOINT</th>\n",
       "    </tr>\n",
       "  </thead>\n",
       "  <tbody>\n",
       "    <tr>\n",
       "      <th>0</th>\n",
       "      <td>5000.0</td>\n",
       "      <td>5000.0</td>\n",
       "      <td>4975.0</td>\n",
       "      <td>10.65</td>\n",
       "      <td>162.87</td>\n",
       "      <td>6</td>\n",
       "      <td>10.0</td>\n",
       "      <td>24000.0</td>\n",
       "      <td>27.65</td>\n",
       "      <td>0.0</td>\n",
       "      <td>...</td>\n",
       "      <td>0</td>\n",
       "      <td>0</td>\n",
       "      <td>0</td>\n",
       "      <td>0</td>\n",
       "      <td>0</td>\n",
       "      <td>0</td>\n",
       "      <td>1</td>\n",
       "      <td>0</td>\n",
       "      <td>1</td>\n",
       "      <td>0</td>\n",
       "    </tr>\n",
       "    <tr>\n",
       "      <th>1</th>\n",
       "      <td>2500.0</td>\n",
       "      <td>2500.0</td>\n",
       "      <td>2500.0</td>\n",
       "      <td>15.27</td>\n",
       "      <td>59.83</td>\n",
       "      <td>5</td>\n",
       "      <td>0.0</td>\n",
       "      <td>30000.0</td>\n",
       "      <td>1.00</td>\n",
       "      <td>0.0</td>\n",
       "      <td>...</td>\n",
       "      <td>0</td>\n",
       "      <td>0</td>\n",
       "      <td>0</td>\n",
       "      <td>0</td>\n",
       "      <td>0</td>\n",
       "      <td>0</td>\n",
       "      <td>1</td>\n",
       "      <td>0</td>\n",
       "      <td>1</td>\n",
       "      <td>0</td>\n",
       "    </tr>\n",
       "    <tr>\n",
       "      <th>2</th>\n",
       "      <td>2400.0</td>\n",
       "      <td>2400.0</td>\n",
       "      <td>2400.0</td>\n",
       "      <td>15.96</td>\n",
       "      <td>84.33</td>\n",
       "      <td>5</td>\n",
       "      <td>10.0</td>\n",
       "      <td>12252.0</td>\n",
       "      <td>8.72</td>\n",
       "      <td>0.0</td>\n",
       "      <td>...</td>\n",
       "      <td>0</td>\n",
       "      <td>0</td>\n",
       "      <td>0</td>\n",
       "      <td>0</td>\n",
       "      <td>0</td>\n",
       "      <td>0</td>\n",
       "      <td>1</td>\n",
       "      <td>0</td>\n",
       "      <td>1</td>\n",
       "      <td>0</td>\n",
       "    </tr>\n",
       "    <tr>\n",
       "      <th>3</th>\n",
       "      <td>10000.0</td>\n",
       "      <td>10000.0</td>\n",
       "      <td>10000.0</td>\n",
       "      <td>13.49</td>\n",
       "      <td>339.31</td>\n",
       "      <td>5</td>\n",
       "      <td>10.0</td>\n",
       "      <td>49200.0</td>\n",
       "      <td>20.00</td>\n",
       "      <td>0.0</td>\n",
       "      <td>...</td>\n",
       "      <td>0</td>\n",
       "      <td>0</td>\n",
       "      <td>0</td>\n",
       "      <td>0</td>\n",
       "      <td>0</td>\n",
       "      <td>0</td>\n",
       "      <td>1</td>\n",
       "      <td>0</td>\n",
       "      <td>1</td>\n",
       "      <td>0</td>\n",
       "    </tr>\n",
       "    <tr>\n",
       "      <th>5</th>\n",
       "      <td>5000.0</td>\n",
       "      <td>5000.0</td>\n",
       "      <td>5000.0</td>\n",
       "      <td>7.90</td>\n",
       "      <td>156.46</td>\n",
       "      <td>7</td>\n",
       "      <td>3.0</td>\n",
       "      <td>36000.0</td>\n",
       "      <td>11.20</td>\n",
       "      <td>0.0</td>\n",
       "      <td>...</td>\n",
       "      <td>0</td>\n",
       "      <td>0</td>\n",
       "      <td>0</td>\n",
       "      <td>0</td>\n",
       "      <td>0</td>\n",
       "      <td>0</td>\n",
       "      <td>1</td>\n",
       "      <td>0</td>\n",
       "      <td>1</td>\n",
       "      <td>0</td>\n",
       "    </tr>\n",
       "  </tbody>\n",
       "</table>\n",
       "<p>5 rows × 113 columns</p>\n",
       "</div>"
      ],
      "text/plain": [
       "   loan_amnt  funded_amnt  funded_amnt_inv  int_rate  installment  grade  \\\n",
       "0     5000.0       5000.0           4975.0     10.65       162.87      6   \n",
       "1     2500.0       2500.0           2500.0     15.27        59.83      5   \n",
       "2     2400.0       2400.0           2400.0     15.96        84.33      5   \n",
       "3    10000.0      10000.0          10000.0     13.49       339.31      5   \n",
       "5     5000.0       5000.0           5000.0      7.90       156.46      7   \n",
       "\n",
       "   emp_length  annual_inc    dti  delinq_2yrs           ...            \\\n",
       "0        10.0     24000.0  27.65          0.0           ...             \n",
       "1         0.0     30000.0   1.00          0.0           ...             \n",
       "2        10.0     12252.0   8.72          0.0           ...             \n",
       "3        10.0     49200.0  20.00          0.0           ...             \n",
       "5         3.0     36000.0  11.20          0.0           ...             \n",
       "\n",
       "   addr_state_VA  addr_state_VT  addr_state_WA  addr_state_WI  addr_state_WV  \\\n",
       "0              0              0              0              0              0   \n",
       "1              0              0              0              0              0   \n",
       "2              0              0              0              0              0   \n",
       "3              0              0              0              0              0   \n",
       "5              0              0              0              0              0   \n",
       "\n",
       "   addr_state_WY  initial_list_status_f  initial_list_status_w  \\\n",
       "0              0                      1                      0   \n",
       "1              0                      1                      0   \n",
       "2              0                      1                      0   \n",
       "3              0                      1                      0   \n",
       "5              0                      1                      0   \n",
       "\n",
       "   application_type_INDIVIDUAL  application_type_JOINT  \n",
       "0                            1                       0  \n",
       "1                            1                       0  \n",
       "2                            1                       0  \n",
       "3                            1                       0  \n",
       "5                            1                       0  \n",
       "\n",
       "[5 rows x 113 columns]"
      ]
     },
     "execution_count": 42,
     "metadata": {},
     "output_type": "execute_result"
    }
   ],
   "source": [
    "loans_4.head()"
   ]
  },
  {
   "cell_type": "code",
   "execution_count": 43,
   "metadata": {},
   "outputs": [],
   "source": [
    "loans_4_columns = loans_4.columns.tolist()\n",
    "\n",
    "loans_4_columns.remove('loan_status_num')"
   ]
  },
  {
   "cell_type": "code",
   "execution_count": 44,
   "metadata": {},
   "outputs": [],
   "source": [
    "# scale and normalize\n",
    "from sklearn.preprocessing import StandardScaler\n",
    "scale = StandardScaler()\n",
    "\n",
    "loans_4[loans_4_columns] = scale.fit_transform(loans_4[loans_4_columns].as_matrix())"
   ]
  },
  {
   "cell_type": "code",
   "execution_count": 45,
   "metadata": {
    "scrolled": false
   },
   "outputs": [
    {
     "data": {
      "text/html": [
       "<div>\n",
       "<style scoped>\n",
       "    .dataframe tbody tr th:only-of-type {\n",
       "        vertical-align: middle;\n",
       "    }\n",
       "\n",
       "    .dataframe tbody tr th {\n",
       "        vertical-align: top;\n",
       "    }\n",
       "\n",
       "    .dataframe thead th {\n",
       "        text-align: right;\n",
       "    }\n",
       "</style>\n",
       "<table border=\"1\" class=\"dataframe\">\n",
       "  <thead>\n",
       "    <tr style=\"text-align: right;\">\n",
       "      <th></th>\n",
       "      <th>loan_amnt</th>\n",
       "      <th>funded_amnt</th>\n",
       "      <th>funded_amnt_inv</th>\n",
       "      <th>int_rate</th>\n",
       "      <th>installment</th>\n",
       "      <th>grade</th>\n",
       "      <th>emp_length</th>\n",
       "      <th>annual_inc</th>\n",
       "      <th>dti</th>\n",
       "      <th>delinq_2yrs</th>\n",
       "      <th>...</th>\n",
       "      <th>addr_state_VA</th>\n",
       "      <th>addr_state_VT</th>\n",
       "      <th>addr_state_WA</th>\n",
       "      <th>addr_state_WI</th>\n",
       "      <th>addr_state_WV</th>\n",
       "      <th>addr_state_WY</th>\n",
       "      <th>initial_list_status_f</th>\n",
       "      <th>initial_list_status_w</th>\n",
       "      <th>application_type_INDIVIDUAL</th>\n",
       "      <th>application_type_JOINT</th>\n",
       "    </tr>\n",
       "  </thead>\n",
       "  <tbody>\n",
       "    <tr>\n",
       "      <th>0</th>\n",
       "      <td>-1.053756</td>\n",
       "      <td>-1.051684</td>\n",
       "      <td>-1.040981</td>\n",
       "      <td>-0.709800</td>\n",
       "      <td>-1.042836</td>\n",
       "      <td>0.599492</td>\n",
       "      <td>1.172848</td>\n",
       "      <td>-0.825215</td>\n",
       "      <td>1.422752</td>\n",
       "      <td>-0.337469</td>\n",
       "      <td>...</td>\n",
       "      <td>-0.179927</td>\n",
       "      <td>-0.041117</td>\n",
       "      <td>-0.154645</td>\n",
       "      <td>-0.110968</td>\n",
       "      <td>-0.067208</td>\n",
       "      <td>-0.048764</td>\n",
       "      <td>0.625251</td>\n",
       "      <td>-0.625251</td>\n",
       "      <td>0.001983</td>\n",
       "      <td>-0.001983</td>\n",
       "    </tr>\n",
       "    <tr>\n",
       "      <th>1</th>\n",
       "      <td>-1.361132</td>\n",
       "      <td>-1.359907</td>\n",
       "      <td>-1.345429</td>\n",
       "      <td>0.339228</td>\n",
       "      <td>-1.463558</td>\n",
       "      <td>-0.147896</td>\n",
       "      <td>-1.644461</td>\n",
       "      <td>-0.723148</td>\n",
       "      <td>-1.996380</td>\n",
       "      <td>-0.337469</td>\n",
       "      <td>...</td>\n",
       "      <td>-0.179927</td>\n",
       "      <td>-0.041117</td>\n",
       "      <td>-0.154645</td>\n",
       "      <td>-0.110968</td>\n",
       "      <td>-0.067208</td>\n",
       "      <td>-0.048764</td>\n",
       "      <td>0.625251</td>\n",
       "      <td>-0.625251</td>\n",
       "      <td>0.001983</td>\n",
       "      <td>-0.001983</td>\n",
       "    </tr>\n",
       "    <tr>\n",
       "      <th>2</th>\n",
       "      <td>-1.373427</td>\n",
       "      <td>-1.372236</td>\n",
       "      <td>-1.357730</td>\n",
       "      <td>0.495901</td>\n",
       "      <td>-1.363522</td>\n",
       "      <td>-0.147896</td>\n",
       "      <td>1.172848</td>\n",
       "      <td>-1.025060</td>\n",
       "      <td>-1.005922</td>\n",
       "      <td>-0.337469</td>\n",
       "      <td>...</td>\n",
       "      <td>-0.179927</td>\n",
       "      <td>-0.041117</td>\n",
       "      <td>-0.154645</td>\n",
       "      <td>-0.110968</td>\n",
       "      <td>-0.067208</td>\n",
       "      <td>-0.048764</td>\n",
       "      <td>0.625251</td>\n",
       "      <td>-0.625251</td>\n",
       "      <td>0.001983</td>\n",
       "      <td>-0.001983</td>\n",
       "    </tr>\n",
       "    <tr>\n",
       "      <th>3</th>\n",
       "      <td>-0.439005</td>\n",
       "      <td>-0.435237</td>\n",
       "      <td>-0.422859</td>\n",
       "      <td>-0.064943</td>\n",
       "      <td>-0.322414</td>\n",
       "      <td>-0.147896</td>\n",
       "      <td>1.172848</td>\n",
       "      <td>-0.396536</td>\n",
       "      <td>0.441275</td>\n",
       "      <td>-0.337469</td>\n",
       "      <td>...</td>\n",
       "      <td>-0.179927</td>\n",
       "      <td>-0.041117</td>\n",
       "      <td>-0.154645</td>\n",
       "      <td>-0.110968</td>\n",
       "      <td>-0.067208</td>\n",
       "      <td>-0.048764</td>\n",
       "      <td>0.625251</td>\n",
       "      <td>-0.625251</td>\n",
       "      <td>0.001983</td>\n",
       "      <td>-0.001983</td>\n",
       "    </tr>\n",
       "    <tr>\n",
       "      <th>5</th>\n",
       "      <td>-1.053756</td>\n",
       "      <td>-1.051684</td>\n",
       "      <td>-1.037906</td>\n",
       "      <td>-1.334221</td>\n",
       "      <td>-1.069009</td>\n",
       "      <td>1.346879</td>\n",
       "      <td>-0.799269</td>\n",
       "      <td>-0.621082</td>\n",
       "      <td>-0.687744</td>\n",
       "      <td>-0.337469</td>\n",
       "      <td>...</td>\n",
       "      <td>-0.179927</td>\n",
       "      <td>-0.041117</td>\n",
       "      <td>-0.154645</td>\n",
       "      <td>-0.110968</td>\n",
       "      <td>-0.067208</td>\n",
       "      <td>-0.048764</td>\n",
       "      <td>0.625251</td>\n",
       "      <td>-0.625251</td>\n",
       "      <td>0.001983</td>\n",
       "      <td>-0.001983</td>\n",
       "    </tr>\n",
       "  </tbody>\n",
       "</table>\n",
       "<p>5 rows × 113 columns</p>\n",
       "</div>"
      ],
      "text/plain": [
       "   loan_amnt  funded_amnt  funded_amnt_inv  int_rate  installment     grade  \\\n",
       "0  -1.053756    -1.051684        -1.040981 -0.709800    -1.042836  0.599492   \n",
       "1  -1.361132    -1.359907        -1.345429  0.339228    -1.463558 -0.147896   \n",
       "2  -1.373427    -1.372236        -1.357730  0.495901    -1.363522 -0.147896   \n",
       "3  -0.439005    -0.435237        -0.422859 -0.064943    -0.322414 -0.147896   \n",
       "5  -1.053756    -1.051684        -1.037906 -1.334221    -1.069009  1.346879   \n",
       "\n",
       "   emp_length  annual_inc       dti  delinq_2yrs           ...            \\\n",
       "0    1.172848   -0.825215  1.422752    -0.337469           ...             \n",
       "1   -1.644461   -0.723148 -1.996380    -0.337469           ...             \n",
       "2    1.172848   -1.025060 -1.005922    -0.337469           ...             \n",
       "3    1.172848   -0.396536  0.441275    -0.337469           ...             \n",
       "5   -0.799269   -0.621082 -0.687744    -0.337469           ...             \n",
       "\n",
       "   addr_state_VA  addr_state_VT  addr_state_WA  addr_state_WI  addr_state_WV  \\\n",
       "0      -0.179927      -0.041117      -0.154645      -0.110968      -0.067208   \n",
       "1      -0.179927      -0.041117      -0.154645      -0.110968      -0.067208   \n",
       "2      -0.179927      -0.041117      -0.154645      -0.110968      -0.067208   \n",
       "3      -0.179927      -0.041117      -0.154645      -0.110968      -0.067208   \n",
       "5      -0.179927      -0.041117      -0.154645      -0.110968      -0.067208   \n",
       "\n",
       "   addr_state_WY  initial_list_status_f  initial_list_status_w  \\\n",
       "0      -0.048764               0.625251              -0.625251   \n",
       "1      -0.048764               0.625251              -0.625251   \n",
       "2      -0.048764               0.625251              -0.625251   \n",
       "3      -0.048764               0.625251              -0.625251   \n",
       "5      -0.048764               0.625251              -0.625251   \n",
       "\n",
       "   application_type_INDIVIDUAL  application_type_JOINT  \n",
       "0                     0.001983               -0.001983  \n",
       "1                     0.001983               -0.001983  \n",
       "2                     0.001983               -0.001983  \n",
       "3                     0.001983               -0.001983  \n",
       "5                     0.001983               -0.001983  \n",
       "\n",
       "[5 rows x 113 columns]"
      ]
     },
     "execution_count": 45,
     "metadata": {},
     "output_type": "execute_result"
    }
   ],
   "source": [
    "loans_4.head()"
   ]
  },
  {
   "cell_type": "markdown",
   "metadata": {},
   "source": [
    "## 7) Balanced Positive and Negative Distribution"
   ]
  },
  {
   "cell_type": "markdown",
   "metadata": {},
   "source": [
    "**- DROP FULLY PAID SAMPLES SO THAT WE GET A 50/50 SPLIT OF POSITIVE AND NEGATIVE**"
   ]
  },
  {
   "cell_type": "code",
   "execution_count": 46,
   "metadata": {},
   "outputs": [],
   "source": [
    "loans_5 = loans_4.copy(deep=True)"
   ]
  },
  {
   "cell_type": "code",
   "execution_count": 47,
   "metadata": {},
   "outputs": [
    {
     "data": {
      "text/plain": [
       "0    207723\n",
       "1     46467\n",
       "Name: loan_status_num, dtype: int64"
      ]
     },
     "execution_count": 47,
     "metadata": {},
     "output_type": "execute_result"
    }
   ],
   "source": [
    "loans_4.loan_status_num.value_counts()"
   ]
  },
  {
   "cell_type": "code",
   "execution_count": 48,
   "metadata": {},
   "outputs": [],
   "source": [
    "# Rename the index\n",
    "loans_5.index = list(range(len(loans_5.index.tolist())))"
   ]
  },
  {
   "cell_type": "code",
   "execution_count": 49,
   "metadata": {
    "scrolled": true
   },
   "outputs": [
    {
     "data": {
      "text/plain": [
       "1    46467\n",
       "0    46467\n",
       "Name: loan_status_num, dtype: int64"
      ]
     },
     "execution_count": 49,
     "metadata": {},
     "output_type": "execute_result"
    }
   ],
   "source": [
    "# Randomly drop fully paid rows until the positive and negative values have a 50/50 split\n",
    "import random\n",
    "\n",
    "d_nd = loans_5.loan_status_num.value_counts().tolist()\n",
    "defaults = d_nd[1]\n",
    "non_default = d_nd[0]\n",
    "\n",
    "# number of positive samples to drop\n",
    "drop_num = int(math.fabs(d_nd[1]-d_nd[0]))\n",
    "drop_num\n",
    "\n",
    "fully_paid_indicies = loans_5[loans_5.loan_status_num == 0].index.tolist()\n",
    "\n",
    "random_drop = random.sample(fully_paid_indicies, drop_num)\n",
    "\n",
    "loans_5.drop(loans_5.index[random_drop], inplace=True, axis=0)\n",
    "\n",
    "loans_5.loan_status_num.value_counts()\n"
   ]
  },
  {
   "cell_type": "code",
   "execution_count": 50,
   "metadata": {},
   "outputs": [],
   "source": [
    "# all columns without loan_status_num and loan_status\n",
    "X = loans_5.drop(['loan_status_num'], axis=1)\n",
    "# loan_status_num column\n",
    "y = loans_5.loan_status_num\n",
    "\n",
    "from sklearn.model_selection import train_test_split\n",
    "\n",
    "X_train, X_test, y_train, y_test = train_test_split(X,y)"
   ]
  },
  {
   "cell_type": "markdown",
   "metadata": {},
   "source": [
    "## 8) Test, Train, Split "
   ]
  },
  {
   "cell_type": "code",
   "execution_count": 51,
   "metadata": {},
   "outputs": [],
   "source": [
    "from sklearn.model_selection import train_test_split\n",
    "\n",
    "# all columns without loan_status_num and loan_status\n",
    "X = loans_5.drop(['loan_status_num'], axis=1)\n",
    "# loan_status_num column\n",
    "y = loans_5.loan_status_num\n",
    "\n",
    "X_train, X_test, y_train, y_test = train_test_split(X,y)"
   ]
  },
  {
   "cell_type": "markdown",
   "metadata": {},
   "source": [
    "## 9) Select Model Features "
   ]
  },
  {
   "cell_type": "code",
   "execution_count": 52,
   "metadata": {},
   "outputs": [
    {
     "data": {
      "text/plain": [
       "['loan_amnt',\n",
       " 'funded_amnt',\n",
       " 'funded_amnt_inv',\n",
       " 'int_rate',\n",
       " 'installment',\n",
       " 'grade',\n",
       " 'emp_length',\n",
       " 'annual_inc',\n",
       " 'dti',\n",
       " 'delinq_2yrs',\n",
       " 'inq_last_6mths',\n",
       " 'open_acc',\n",
       " 'pub_rec',\n",
       " 'revol_bal',\n",
       " 'revol_util',\n",
       " 'total_acc',\n",
       " 'out_prncp',\n",
       " 'out_prncp_inv',\n",
       " 'total_pymnt',\n",
       " 'total_pymnt_inv',\n",
       " 'total_rec_prncp',\n",
       " 'total_rec_int',\n",
       " 'total_rec_late_fee',\n",
       " 'last_pymnt_amnt',\n",
       " 'collections_12_mths_ex_med',\n",
       " 'policy_code',\n",
       " 'acc_now_delinq',\n",
       " 'tot_coll_amt',\n",
       " 'tot_cur_bal',\n",
       " 'total_rev_hi_lim',\n",
       " 'loan_status_num',\n",
       " 'term_ 36 months',\n",
       " 'term_ 60 months',\n",
       " 'home_ownership_ANY',\n",
       " 'home_ownership_MORTGAGE',\n",
       " 'home_ownership_NONE',\n",
       " 'home_ownership_OTHER',\n",
       " 'home_ownership_OWN',\n",
       " 'home_ownership_RENT',\n",
       " 'verification_status_Not Verified',\n",
       " 'verification_status_Source Verified',\n",
       " 'verification_status_Verified',\n",
       " 'pymnt_plan_n',\n",
       " 'pymnt_plan_y',\n",
       " 'purpose_car',\n",
       " 'purpose_credit_card',\n",
       " 'purpose_debt_consolidation',\n",
       " 'purpose_educational',\n",
       " 'purpose_home_improvement',\n",
       " 'purpose_house',\n",
       " 'purpose_major_purchase',\n",
       " 'purpose_medical',\n",
       " 'purpose_moving',\n",
       " 'purpose_other',\n",
       " 'purpose_renewable_energy',\n",
       " 'purpose_small_business',\n",
       " 'purpose_vacation',\n",
       " 'purpose_wedding',\n",
       " 'addr_state_AK',\n",
       " 'addr_state_AL',\n",
       " 'addr_state_AR',\n",
       " 'addr_state_AZ',\n",
       " 'addr_state_CA',\n",
       " 'addr_state_CO',\n",
       " 'addr_state_CT',\n",
       " 'addr_state_DC',\n",
       " 'addr_state_DE',\n",
       " 'addr_state_FL',\n",
       " 'addr_state_GA',\n",
       " 'addr_state_HI',\n",
       " 'addr_state_IA',\n",
       " 'addr_state_ID',\n",
       " 'addr_state_IL',\n",
       " 'addr_state_IN',\n",
       " 'addr_state_KS',\n",
       " 'addr_state_KY',\n",
       " 'addr_state_LA',\n",
       " 'addr_state_MA',\n",
       " 'addr_state_MD',\n",
       " 'addr_state_ME',\n",
       " 'addr_state_MI',\n",
       " 'addr_state_MN',\n",
       " 'addr_state_MO',\n",
       " 'addr_state_MS',\n",
       " 'addr_state_MT',\n",
       " 'addr_state_NC',\n",
       " 'addr_state_ND',\n",
       " 'addr_state_NE',\n",
       " 'addr_state_NH',\n",
       " 'addr_state_NJ',\n",
       " 'addr_state_NM',\n",
       " 'addr_state_NV',\n",
       " 'addr_state_NY',\n",
       " 'addr_state_OH',\n",
       " 'addr_state_OK',\n",
       " 'addr_state_OR',\n",
       " 'addr_state_PA',\n",
       " 'addr_state_RI',\n",
       " 'addr_state_SC',\n",
       " 'addr_state_SD',\n",
       " 'addr_state_TN',\n",
       " 'addr_state_TX',\n",
       " 'addr_state_UT',\n",
       " 'addr_state_VA',\n",
       " 'addr_state_VT',\n",
       " 'addr_state_WA',\n",
       " 'addr_state_WI',\n",
       " 'addr_state_WV',\n",
       " 'addr_state_WY',\n",
       " 'initial_list_status_f',\n",
       " 'initial_list_status_w',\n",
       " 'application_type_INDIVIDUAL',\n",
       " 'application_type_JOINT']"
      ]
     },
     "execution_count": 52,
     "metadata": {},
     "output_type": "execute_result"
    }
   ],
   "source": [
    "loans_5.columns.tolist()"
   ]
  },
  {
   "cell_type": "markdown",
   "metadata": {},
   "source": [
    "## 10) Kfolds "
   ]
  },
  {
   "cell_type": "markdown",
   "metadata": {},
   "source": [
    "Didn't have time to implement"
   ]
  },
  {
   "cell_type": "markdown",
   "metadata": {},
   "source": [
    "## 11) Build Models \n",
    "- 50% BASELINE - UNDER SAMPLING FULLY PAID CLASS"
   ]
  },
  {
   "cell_type": "markdown",
   "metadata": {},
   "source": [
    "### Logistic Regression"
   ]
  },
  {
   "cell_type": "code",
   "execution_count": 53,
   "metadata": {},
   "outputs": [
    {
     "data": {
      "text/plain": [
       "0.9937591460790222"
      ]
     },
     "execution_count": 53,
     "metadata": {},
     "output_type": "execute_result"
    }
   ],
   "source": [
    "# Fit a logistic regression model and store the class predictions.\n",
    "from sklearn.linear_model import LogisticRegression\n",
    "rand_state = 8\n",
    "\n",
    "LR = LogisticRegression(random_state=rand_state, \n",
    "                        class_weight = 'balanced', C=100)\n",
    "\n",
    "LR.fit(X_train,y_train)\n",
    "\n",
    "y_pred = LR.predict(X_test)\n",
    "\n",
    "model_score = LR.score(X_test, y_test)\n",
    "model_score"
   ]
  },
  {
   "cell_type": "code",
   "execution_count": 54,
   "metadata": {},
   "outputs": [
    {
     "data": {
      "text/plain": [
       "1    46467\n",
       "0    46467\n",
       "Name: loan_status_num, dtype: int64"
      ]
     },
     "execution_count": 54,
     "metadata": {},
     "output_type": "execute_result"
    }
   ],
   "source": [
    "loans_5.loan_status_num.value_counts()"
   ]
  },
  {
   "cell_type": "code",
   "execution_count": 55,
   "metadata": {},
   "outputs": [
    {
     "name": "stdout",
     "output_type": "stream",
     "text": [
      "The baseline for the model is 0.5000 and the model scored 0.9938\n",
      "So the model exceeded the baseline by 0.4938\n"
     ]
    }
   ],
   "source": [
    "d_nd = loans_5.loan_status_num.value_counts().tolist()\n",
    "defaults = d_nd[1]\n",
    "non_default = d_nd[0]\n",
    "\n",
    "base_line = non_default/(non_default + defaults)\n",
    "print('The baseline for the model is %.4f and the model scored %.4f' % (base_line, model_score))\n",
    "print('So the model exceeded the baseline by %.4f' % (model_score - base_line))"
   ]
  },
  {
   "cell_type": "code",
   "execution_count": 124,
   "metadata": {},
   "outputs": [
    {
     "name": "stdout",
     "output_type": "stream",
     "text": [
      "ABSOLUTE VALUES\n",
      "('total_rec_prncp', 100.52712130914482)\n",
      "('total_pymnt', 69.24895576073594)\n",
      "('funded_amnt', 38.71557374935408)\n",
      "('total_pymnt_inv', 21.650938765209734)\n",
      "('funded_amnt_inv', 21.194902893744494)\n",
      "\n",
      "NEGATIVES INCLUDED\n",
      "('total_rec_prncp', -100.52712130914482)\n",
      "('funded_amnt_inv', -21.194902893744494)\n",
      "('total_pymnt_inv', 21.650938765209734)\n",
      "('funded_amnt', 38.71557374935408)\n",
      "('total_pymnt', 69.24895576073594)\n"
     ]
    }
   ],
   "source": [
    "# Examine the coefficient \n",
    "feature_cols = X.columns.tolist()\n",
    "coefficients = LR.coef_.tolist()[0]\n",
    "\n",
    "features = list(zip(feature_cols, coefficients))\n",
    "\n",
    "sorted_features = sorted(features, key=lambda x: x[1]) \n",
    "\n",
    "\n",
    "new = []\n",
    "for i in sorted_features:\n",
    "    if i[1] < 0:\n",
    "        new.append((i[0], math.fabs(i[1])))\n",
    "    else:\n",
    "        new.append(i)\n",
    "    \n",
    "new = sorted(new, key=lambda x: x[1], reverse=True)\n",
    "  \n",
    "print(\"ABSOLUTE VALUES\")\n",
    "c = 0\n",
    "dummy = []\n",
    "for i in new:\n",
    "    print(i)\n",
    "    dummy.append(i[0])\n",
    "    c += 1\n",
    "    if c >= 5:\n",
    "        break\n",
    "        \n",
    "print()\n",
    "\n",
    "print(\"NEGATIVES INCLUDED\")\n",
    "c = 0\n",
    "for i in sorted_features:\n",
    "    if i[0] in dummy:\n",
    "        print(i)"
   ]
  },
  {
   "cell_type": "markdown",
   "metadata": {},
   "source": [
    "**- Confusion Matrix**"
   ]
  },
  {
   "cell_type": "code",
   "execution_count": 57,
   "metadata": {},
   "outputs": [],
   "source": [
    "from sklearn import metrics"
   ]
  },
  {
   "cell_type": "code",
   "execution_count": 58,
   "metadata": {},
   "outputs": [],
   "source": [
    "# Get probability predictions.\n",
    "logit_pred_proba_LR = LR.predict_proba(X_test)[:,1]"
   ]
  },
  {
   "cell_type": "code",
   "execution_count": 59,
   "metadata": {},
   "outputs": [],
   "source": [
    "confusion_matrix_LR = metrics.confusion_matrix(y_true=y_test, y_pred=logit_pred_proba_LR > .5)"
   ]
  },
  {
   "cell_type": "code",
   "execution_count": 60,
   "metadata": {},
   "outputs": [
    {
     "name": "stdout",
     "output_type": "stream",
     "text": [
      "TN = 11628 FP = 8\n",
      "FN = 137 TP = 11461\n"
     ]
    }
   ],
   "source": [
    "print('TN =', confusion_matrix_LR[0][0], 'FP =', confusion_matrix_LR[0][1])\n",
    "print('FN =', confusion_matrix_LR[1][0], 'TP =', confusion_matrix_LR[1][1])"
   ]
  },
  {
   "cell_type": "markdown",
   "metadata": {},
   "source": [
    "**- f1 Score**"
   ]
  },
  {
   "cell_type": "code",
   "execution_count": 61,
   "metadata": {
    "scrolled": true
   },
   "outputs": [
    {
     "name": "stdout",
     "output_type": "stream",
     "text": [
      "             precision    recall  f1-score   support\n",
      "\n",
      " Fully Paid       0.99      1.00      0.99     11636\n",
      "    Default       1.00      0.99      0.99     11598\n",
      "\n",
      "avg / total       0.99      0.99      0.99     23234\n",
      "\n"
     ]
    }
   ],
   "source": [
    "from sklearn.metrics import classification_report\n",
    "\n",
    "predictions = LR.predict(X_test)\n",
    "\n",
    "print(classification_report(y_test, predictions, target_names=loans_3.loan_status.unique().tolist()))"
   ]
  },
  {
   "cell_type": "markdown",
   "metadata": {},
   "source": [
    "### Random Forest"
   ]
  },
  {
   "cell_type": "code",
   "execution_count": 62,
   "metadata": {},
   "outputs": [],
   "source": [
    "# mean squared error\n",
    "# log loss\n",
    "# hyper parameter tuning for random forest "
   ]
  },
  {
   "cell_type": "code",
   "execution_count": 63,
   "metadata": {},
   "outputs": [
    {
     "data": {
      "text/plain": [
       "0.9450804854953947"
      ]
     },
     "execution_count": 63,
     "metadata": {},
     "output_type": "execute_result"
    }
   ],
   "source": [
    "from sklearn.ensemble import RandomForestClassifier\n",
    "rand_state = 8\n",
    "\n",
    "rf = RandomForestClassifier(random_state=rand_state, n_estimators=30, max_depth=5, class_weight='balanced')\n",
    "\n",
    "rf.fit(X_train,y_train)\n",
    "\n",
    "y_pred = rf.predict(X_test)\n",
    "\n",
    "model_score = rf.score(X_test, y_test)\n",
    "model_score"
   ]
  },
  {
   "cell_type": "code",
   "execution_count": 64,
   "metadata": {},
   "outputs": [
    {
     "data": {
      "text/plain": [
       "1    46467\n",
       "0    46467\n",
       "Name: loan_status_num, dtype: int64"
      ]
     },
     "execution_count": 64,
     "metadata": {},
     "output_type": "execute_result"
    }
   ],
   "source": [
    "loans_5.loan_status_num.value_counts()"
   ]
  },
  {
   "cell_type": "code",
   "execution_count": 65,
   "metadata": {},
   "outputs": [
    {
     "name": "stdout",
     "output_type": "stream",
     "text": [
      "The baseline for the model is 0.5000 and the model scored 0.9451\n",
      "So the model exceeded the baseline by 0.4451\n"
     ]
    }
   ],
   "source": [
    "d_nd = loans_5.loan_status_num.value_counts().tolist()\n",
    "defaults = d_nd[1]\n",
    "non_default = d_nd[0]\n",
    "\n",
    "base_line = non_default/(non_default + defaults)\n",
    "print('The baseline for the model is %.4f and the model scored %.4f' % (base_line, model_score))\n",
    "print('So the model exceeded the baseline by %.4f' % (model_score - base_line))"
   ]
  },
  {
   "cell_type": "code",
   "execution_count": 66,
   "metadata": {},
   "outputs": [],
   "source": [
    "# Get probability predictions.\n",
    "logit_pred_proba_rf = rf.predict_proba(X_test)[:,1]"
   ]
  },
  {
   "cell_type": "markdown",
   "metadata": {},
   "source": [
    "**- Confusion Matrix**"
   ]
  },
  {
   "cell_type": "code",
   "execution_count": 67,
   "metadata": {},
   "outputs": [],
   "source": [
    "confusion_matrix_rf = metrics.confusion_matrix(y_true=y_test, y_pred=logit_pred_proba_rf > .5)"
   ]
  },
  {
   "cell_type": "code",
   "execution_count": 68,
   "metadata": {},
   "outputs": [
    {
     "name": "stdout",
     "output_type": "stream",
     "text": [
      "TN = 10930 FP = 706\n",
      "FN = 570 TP = 11028\n"
     ]
    }
   ],
   "source": [
    "print('TN =', confusion_matrix_rf[0][0], 'FP =', confusion_matrix_rf[0][1])\n",
    "print('FN =', confusion_matrix_rf[1][0], 'TP =', confusion_matrix_rf[1][1])"
   ]
  },
  {
   "cell_type": "markdown",
   "metadata": {},
   "source": [
    "**- f1 Score**"
   ]
  },
  {
   "cell_type": "code",
   "execution_count": 69,
   "metadata": {
    "scrolled": true
   },
   "outputs": [
    {
     "name": "stdout",
     "output_type": "stream",
     "text": [
      "             precision    recall  f1-score   support\n",
      "\n",
      " Fully Paid       0.95      0.94      0.94     11636\n",
      "    Default       0.94      0.95      0.95     11598\n",
      "\n",
      "avg / total       0.95      0.95      0.95     23234\n",
      "\n"
     ]
    }
   ],
   "source": [
    "from sklearn.metrics import classification_report\n",
    "\n",
    "predictions = rf.predict(X_test)\n",
    "\n",
    "print(classification_report(y_test, predictions, target_names=loans_3.loan_status.unique().tolist()))"
   ]
  },
  {
   "cell_type": "markdown",
   "metadata": {},
   "source": [
    "<font color='green'>------------------------------------------------------------------------------------------------------------------</font>"
   ]
  },
  {
   "cell_type": "markdown",
   "metadata": {},
   "source": [
    "-------------------------------------------------------------------"
   ]
  },
  {
   "cell_type": "markdown",
   "metadata": {},
   "source": [
    "-------------------------------------------------------------------"
   ]
  },
  {
   "cell_type": "markdown",
   "metadata": {},
   "source": [
    "-------------------------------------------------------------------"
   ]
  },
  {
   "cell_type": "markdown",
   "metadata": {},
   "source": [
    "-------------------------------------------------------------------"
   ]
  },
  {
   "cell_type": "markdown",
   "metadata": {},
   "source": [
    "-------------------------------------------------------------------"
   ]
  },
  {
   "cell_type": "markdown",
   "metadata": {},
   "source": [
    "-------------------------------------------------------------------"
   ]
  },
  {
   "cell_type": "markdown",
   "metadata": {},
   "source": [
    "-------------------------------------------------------------------"
   ]
  },
  {
   "cell_type": "markdown",
   "metadata": {},
   "source": [
    "-------------------------------------------------------------------"
   ]
  },
  {
   "cell_type": "markdown",
   "metadata": {},
   "source": [
    "-------------------------------------------------------------------"
   ]
  },
  {
   "cell_type": "markdown",
   "metadata": {},
   "source": [
    "-------------------------------------------------------------------"
   ]
  },
  {
   "cell_type": "markdown",
   "metadata": {},
   "source": [
    "<font color='red'>------------------------------------------------------------------------------------------------------------------</font>"
   ]
  },
  {
   "cell_type": "markdown",
   "metadata": {},
   "source": [
    "# Appendix - Mostly Rubbish"
   ]
  },
  {
   "cell_type": "code",
   "execution_count": 163,
   "metadata": {},
   "outputs": [
    {
     "data": {
      "image/png": "[encoded data removed]",
      "text/plain": [
       "<matplotlib.figure.Figure at 0x1a8b74a048>"
      ]
     },
     "metadata": {},
     "output_type": "display_data"
    }
   ],
   "source": [
    "loans_3['total_rec_prncp'][(loans_3.loan_status_num == 1)].plot(kind='hist', \n",
    "                                                                title='Principle Recovered To Date - Defaults');"
   ]
  },
  {
   "cell_type": "code",
   "execution_count": 162,
   "metadata": {},
   "outputs": [
    {
     "data": {
      "image/png": "[encoded data removed]",
      "text/plain": [
       "<matplotlib.figure.Figure at 0x1a0f4ad080>"
      ]
     },
     "metadata": {},
     "output_type": "display_data"
    }
   ],
   "source": [
    "loans_3['total_rec_prncp'][(loans_3.loan_status_num == 0)].plot(kind='hist', \n",
    "                                                                title='Principle Recovered To Date - Fully Paid');"
   ]
  },
  {
   "cell_type": "markdown",
   "metadata": {},
   "source": [
    "**- Exploring Data**"
   ]
  },
  {
   "cell_type": "markdown",
   "metadata": {},
   "source": [
    "Top 10 features used in the logistic regression <br>\n",
    "FEATURES <br>\n",
    "('total_rec_prncp', 100.52712130914482) <br>\n",
    "('total_pymnt', 69.24895576073594) <br>\n",
    "('funded_amnt', 38.71557374935408) <br>\n",
    "('total_pymnt_inv', 21.650938765209734) <br>\n",
    "('funded_amnt_inv', 21.194902893744494) <br>\n",
    "('total_rec_int', 19.63516619061637) <br>\n",
    "('last_pymnt_amnt', 14.981190207599589) <br>\n",
    "('out_prncp', 5.188384485318477) <br>\n",
    "('out_prncp_inv', 5.18437866598246) <br>\n",
    "('tot_coll_amt', 1.4877078078490233) <br>"
   ]
  },
  {
   "cell_type": "code",
   "execution_count": 85,
   "metadata": {},
   "outputs": [
    {
     "data": {
      "text/plain": [
       "['total_rec_prncp',\n",
       " 'total_pymnt',\n",
       " 'funded_amnt',\n",
       " 'total_pymnt_inv',\n",
       " 'funded_amnt_inv',\n",
       " 'total_rec_int',\n",
       " 'last_pymnt_amnt',\n",
       " 'out_prncp',\n",
       " 'out_prncp_inv',\n",
       " 'tot_coll_amt']"
      ]
     },
     "execution_count": 85,
     "metadata": {},
     "output_type": "execute_result"
    }
   ],
   "source": [
    "dummy"
   ]
  },
  {
   "cell_type": "code",
   "execution_count": 127,
   "metadata": {},
   "outputs": [],
   "source": [
    "loans_6 = loans_3.copy(deep=True)\n",
    "\n",
    "loans_6.rename({'total_rec_prncp': 'total recovered principle', 'total_pymnt': 'total payment', \n",
    "                'funded_amnt': 'funded amount','total_pymnt_inv':'total payment investors',\n",
    "                'funded_amnt_inv':'funded amount investors','total_rec_int':'total recovered interest',\n",
    "                'last_pymnt_amnt':'last payment amount', 'out_prncp':'outstanding principle',\n",
    "                'out_prncp_inv': 'outstanding principle investors','tot_coll_amt':'total collection amount'}, inplace=True, \n",
    "              axis=1)"
   ]
  },
  {
   "cell_type": "code",
   "execution_count": null,
   "metadata": {},
   "outputs": [],
   "source": []
  },
  {
   "cell_type": "code",
   "execution_count": null,
   "metadata": {},
   "outputs": [],
   "source": []
  },
  {
   "cell_type": "code",
   "execution_count": 129,
   "metadata": {},
   "outputs": [
    {
     "data": {
      "image/png": "[encoded data removed]",
      "text/plain": [
       "<matplotlib.figure.Figure at 0x1a0ff2ba90>"
      ]
     },
     "metadata": {},
     "output_type": "display_data"
    }
   ],
   "source": [
    "# Heat map of the top 10 features used in the logistic regression and loan_status_num\n",
    "\n",
    "\n",
    "top_features_1 = ['total recovered principle', 'total payment', 'funded amount', \n",
    "                'total payment investors','funded amount investors','total recovered interest',\n",
    "                'last payment amount','outstanding principle','outstanding principle investors',\n",
    "                  'total collection amount', 'loan_status_num']\n",
    "\n",
    "top_features_df = loans_6[top_features_1]\n",
    "\n",
    "sns.heatmap(top_features_df.corr(), cmap='Blues');"
   ]
  },
  {
   "cell_type": "code",
   "execution_count": 113,
   "metadata": {},
   "outputs": [
    {
     "name": "stdout",
     "output_type": "stream",
     "text": [
      "'total_rec_prncp', 'total_pymnt', 'funded_amnt', 'total_pymnt_inv', 'funded_amnt_inv', 'total_rec_int', 'last_pymnt_amnt', 'out_prncp', 'out_prncp_inv', 'tot_coll_amt', 'installment', 'annual_inc', 'int_rate', 'total_rec_late_fee', 'term_ 60 months', 'term_ 36 months', 'grade', 'inq_last_6mths', 'total_rev_hi_lim', 'acc_now_delinq', 'addr_state_DE', 'home_ownership_NONE', 'dti', 'addr_state_VA', 'addr_state_ND', 'addr_state_MS', 'addr_state_GA', 'tot_cur_bal', 'purpose_credit_card', 'revol_bal', 'addr_state_MT', 'addr_state_MN', 'addr_state_WY', 'addr_state_IN', 'initial_list_status_w', 'initial_list_status_f', 'addr_state_VT', 'addr_state_PA', 'addr_state_WA', 'addr_state_ME', 'addr_state_SD', 'purpose_medical', 'addr_state_CT', 'addr_state_HI', 'home_ownership_MORTGAGE', 'addr_state_NY', 'home_ownership_RENT', 'addr_state_RI', 'purpose_small_business', 'addr_state_SC', 'pub_rec', 'emp_length', 'addr_state_DC', 'addr_state_LA', 'addr_state_NV', 'addr_state_TN', 'verification_status_Not Verified', 'purpose_house', 'purpose_major_purchase', 'addr_state_NH', 'collections_12_mths_ex_med', 'purpose_wedding', 'verification_status_Source Verified', 'addr_state_AK', 'purpose_other', 'addr_state_UT', 'addr_state_FL', 'loan_amnt', 'addr_state_NJ', 'addr_state_ID', 'application_type_INDIVIDUAL', 'home_ownership_ANY', 'application_type_JOINT', 'addr_state_IL', 'addr_state_CO', 'purpose_debt_consolidation', 'pymnt_plan_n', 'pymnt_plan_y', 'addr_state_OK', 'purpose_renewable_energy', 'addr_state_WI', 'addr_state_NE', 'purpose_home_improvement', 'addr_state_AZ', 'addr_state_MA', 'addr_state_WV', 'addr_state_KS', 'open_acc', 'addr_state_OR', 'addr_state_NM', 'addr_state_MI', 'verification_status_Verified', 'delinq_2yrs', 'addr_state_CA', 'addr_state_AL', 'addr_state_MD', 'addr_state_IA', 'revol_util', 'addr_state_NC', 'purpose_vacation', 'addr_state_KY', 'addr_state_OH', 'addr_state_TX', 'addr_state_AR', 'purpose_car', 'addr_state_MO', 'total_acc', 'home_ownership_OTHER', 'purpose_educational', 'purpose_moving', 'home_ownership_OWN', 'policy_code', "
     ]
    }
   ],
   "source": [
    "feat = []\n",
    "for x in dummy:\n",
    "    print('\\'{}\\','.format(x), end=\" \")"
   ]
  },
  {
   "cell_type": "code",
   "execution_count": 118,
   "metadata": {},
   "outputs": [
    {
     "data": {
      "text/plain": [
       "<matplotlib.axes._subplots.AxesSubplot at 0x1a173465c0>"
      ]
     },
     "execution_count": 118,
     "metadata": {},
     "output_type": "execute_result"
    },
    {
     "data": {
      "image/png": "[encoded data removed]",
      "text/plain": [
       "<matplotlib.figure.Figure at 0x1a95d11ef0>"
      ]
     },
     "metadata": {},
     "output_type": "display_data"
    }
   ],
   "source": [
    "# Heat map of the top 10-20 features used in the logistic regression and loan_status_num\n",
    "top_features_2 = ['total_rec_prncp', 'total_pymnt', 'funded_amnt', 'total_pymnt_inv',\n",
    "                  'funded_amnt_inv', 'total_rec_int', 'last_pymnt_amnt', 'out_prncp',\n",
    "                  'out_prncp_inv', 'tot_coll_amt', 'installment', 'annual_inc', 'int_rate',\n",
    "                  'total_rec_late_fee', 'term_ 60 months', 'term_ 36 months', 'grade',\n",
    "                  'inq_last_6mths', 'total_rev_hi_lim', 'acc_now_delinq',\n",
    "                  'home_ownership_NONE', 'dti','tot_cur_bal', 'purpose_credit_card',\n",
    "                  'revol_bal','initial_list_status_w', 'initial_list_status_f',\n",
    "                  'purpose_medical','home_ownership_MORTGAGE','home_ownership_RENT', \n",
    "                  'purpose_small_business','pub_rec','emp_length', 'verification_status_Not Verified', \n",
    "                  'purpose_house','purpose_major_purchase', 'collections_12_mths_ex_med',\n",
    "                  'purpose_wedding', 'verification_status_Source Verified',\n",
    "                  'purpose_other', 'loan_amnt','application_type_INDIVIDUAL', 'home_ownership_ANY',\n",
    "                  'application_type_JOINT','purpose_debt_consolidation', 'pymnt_plan_n', 'pymnt_plan_y',\n",
    "                  'purpose_renewable_energy','purpose_home_improvement','open_acc',\n",
    "                  'verification_status_Verified', 'delinq_2yrs', 'revol_util',\n",
    "                  'purpose_vacation','purpose_car','total_acc',\n",
    "                  'home_ownership_OTHER', 'purpose_educational', 'purpose_moving', 'home_ownership_OWN',\n",
    "                  'policy_code','loan_status_num']\n",
    "\n",
    "top_features_df_2 = loans_4[top_features_2]\n",
    "\n",
    "sns.heatmap(top_features_df_2.corr())"
   ]
  },
  {
   "cell_type": "code",
   "execution_count": 123,
   "metadata": {},
   "outputs": [
    {
     "data": {
      "image/png": "[encoded data removed]",
      "text/plain": [
       "<matplotlib.figure.Figure at 0x1a0d2b60f0>"
      ]
     },
     "metadata": {},
     "output_type": "display_data"
    }
   ],
   "source": [
    "top_features_3 = dummy + ['loan_status_num']\n",
    "\n",
    "top_features_df_2 = loans_4[top_features_3]\n",
    "\n",
    "sns.heatmap(top_features_df_2.corr(), cmap='Blues');"
   ]
  },
  {
   "cell_type": "markdown",
   "metadata": {},
   "source": [
    "## Modeling - 77% BASELINE"
   ]
  },
  {
   "cell_type": "markdown",
   "metadata": {},
   "source": [
    "### Logistic Regression model - all columns - only two classes of loan_status"
   ]
  },
  {
   "cell_type": "markdown",
   "metadata": {},
   "source": [
    "**- Run the Model**"
   ]
  },
  {
   "cell_type": "code",
   "execution_count": 44,
   "metadata": {},
   "outputs": [
    {
     "data": {
      "text/plain": [
       "0.9969157172531"
      ]
     },
     "execution_count": 44,
     "metadata": {},
     "output_type": "execute_result"
    }
   ],
   "source": [
    "# Fit a logistic regression model and store the class predictions.\n",
    "from sklearn.linear_model import LogisticRegression\n",
    "rand_state = 8\n",
    "\n",
    "LR = LogisticRegression(random_state=rand_state, class_weight = 'balanced')\n",
    "\n",
    "LR.fit(X_train,y_train)\n",
    "\n",
    "y_pred = LR.predict(X_test)\n",
    "\n",
    "model_score = LR.score(X_test, y_test)\n",
    "model_score"
   ]
  },
  {
   "cell_type": "code",
   "execution_count": 45,
   "metadata": {},
   "outputs": [
    {
     "data": {
      "text/plain": [
       "0    207723\n",
       "1     46467\n",
       "Name: loan_status_num, dtype: int64"
      ]
     },
     "execution_count": 45,
     "metadata": {},
     "output_type": "execute_result"
    }
   ],
   "source": [
    "loans_4.loan_status_num.value_counts()"
   ]
  },
  {
   "cell_type": "code",
   "execution_count": 46,
   "metadata": {},
   "outputs": [
    {
     "name": "stdout",
     "output_type": "stream",
     "text": [
      "The baseline for the model is 0.7763 and the model scored 0.9969\n",
      "So the model exceeded the baseline by 0.2206\n"
     ]
    }
   ],
   "source": [
    "d_nd = loans_4.loan_status_num.value_counts().tolist()\n",
    "defaults = d_nd[1]\n",
    "non_default = d_nd[0]\n",
    "\n",
    "base_line = 1 - defaults/non_default\n",
    "print('The baseline for the model is %.4f and the model scored %.4f' % (base_line, model_score))\n",
    "print('So the model exceeded the baseline by %.4f' % (model_score - base_line))"
   ]
  },
  {
   "cell_type": "code",
   "execution_count": 47,
   "metadata": {},
   "outputs": [
    {
     "name": "stdout",
     "output_type": "stream",
     "text": [
      "ABSOLUTE VALUES\n",
      "('recoveries', 21.923071806465302)\n",
      "('last_pymnt_amnt', 12.338782879701846)\n",
      "('total_rec_prncp', 9.195851039667803)\n",
      "('funded_amnt', 8.468438186287646)\n",
      "('collection_recovery_fee', 7.0359248836105595)\n",
      "\n",
      "NEGATIVES INCLUDED\n",
      "('last_pymnt_amnt', -12.338782879701846)\n",
      "('total_rec_prncp', -9.195851039667803)\n",
      "('collection_recovery_fee', 7.0359248836105595)\n",
      "('funded_amnt', 8.468438186287646)\n",
      "('recoveries', 21.923071806465302)\n"
     ]
    }
   ],
   "source": [
    "# Examine the coefficient \n",
    "feature_cols = X.columns.tolist()\n",
    "coefficients = LR.coef_.tolist()[0]\n",
    "\n",
    "features = list(zip(feature_cols, coefficients))\n",
    "\n",
    "sorted_features = sorted(features, key=lambda x: x[1]) \n",
    "\n",
    "\n",
    "new = []\n",
    "for i in sorted_features:\n",
    "    if i[1] < 0:\n",
    "        new.append((i[0], math.fabs(i[1])))\n",
    "    else:\n",
    "        new.append(i)\n",
    "    \n",
    "new = sorted(new, key=lambda x: x[1], reverse=True)\n",
    "  \n",
    "print(\"ABSOLUTE VALUES\")\n",
    "c = 0\n",
    "dummy = []\n",
    "for i in new:\n",
    "    print(i)\n",
    "    dummy.append(i[0])\n",
    "    c += 1\n",
    "    if c >=5:\n",
    "        break\n",
    "        \n",
    "print()\n",
    "\n",
    "print(\"NEGATIVES INCLUDED\")\n",
    "c = 0\n",
    "for i in sorted_features:\n",
    "    if i[0] in dummy:\n",
    "        print(i)"
   ]
  },
  {
   "cell_type": "markdown",
   "metadata": {},
   "source": [
    "**Results**"
   ]
  },
  {
   "cell_type": "markdown",
   "metadata": {},
   "source": [
    "1) The Top 5 features are not categorical, all my hard work in vain! <br>\n",
    "2) The model massive exceeded my baseline of 80% accuracy however this could be because there were so few defaults <br>\n",
    "3) However it did exceed the baselien <br>"
   ]
  },
  {
   "cell_type": "markdown",
   "metadata": {},
   "source": [
    "**- Confusion Matrix**"
   ]
  },
  {
   "cell_type": "code",
   "execution_count": 48,
   "metadata": {},
   "outputs": [],
   "source": [
    "from sklearn import metrics"
   ]
  },
  {
   "cell_type": "code",
   "execution_count": 49,
   "metadata": {},
   "outputs": [],
   "source": [
    "# Get probability predictions.\n",
    "logit_pred_proba_LR = LR.predict_proba(X_test)[:,1]"
   ]
  },
  {
   "cell_type": "code",
   "execution_count": 50,
   "metadata": {},
   "outputs": [],
   "source": [
    "confusion_matrix_LR = metrics.confusion_matrix(y_true=y_test, y_pred=logit_pred_proba_LR > .5)"
   ]
  },
  {
   "cell_type": "code",
   "execution_count": 51,
   "metadata": {},
   "outputs": [
    {
     "name": "stdout",
     "output_type": "stream",
     "text": [
      "TN = 51823 FP = 87\n",
      "FN = 109 TP = 11529\n"
     ]
    }
   ],
   "source": [
    "print('TN =', confusion_matrix_LR[0][0], 'FP =', confusion_matrix_LR[0][1])\n",
    "print('FN =', confusion_matrix_LR[1][0], 'TP =', confusion_matrix_LR[1][1])"
   ]
  },
  {
   "cell_type": "markdown",
   "metadata": {},
   "source": [
    "### Random Forest"
   ]
  },
  {
   "cell_type": "code",
   "execution_count": 52,
   "metadata": {},
   "outputs": [],
   "source": [
    "# mean squared error\n",
    "# log loss\n",
    "# hyper parameter tuning for random forest "
   ]
  },
  {
   "cell_type": "code",
   "execution_count": 53,
   "metadata": {},
   "outputs": [
    {
     "data": {
      "text/plain": [
       "0.9653332913703028"
      ]
     },
     "execution_count": 53,
     "metadata": {},
     "output_type": "execute_result"
    }
   ],
   "source": [
    "from sklearn.ensemble import RandomForestClassifier\n",
    "rand_state = 8\n",
    "\n",
    "rf = RandomForestClassifier(random_state=rand_state, n_estimators=30, max_depth=5, class_weight='balanced')\n",
    "\n",
    "rf.fit(X_train,y_train)\n",
    "\n",
    "y_pred = rf.predict(X_test)\n",
    "\n",
    "model_score = rf.score(X_test, y_test)\n",
    "model_score"
   ]
  },
  {
   "cell_type": "code",
   "execution_count": 54,
   "metadata": {},
   "outputs": [
    {
     "data": {
      "text/plain": [
       "0    207723\n",
       "1     46467\n",
       "Name: loan_status_num, dtype: int64"
      ]
     },
     "execution_count": 54,
     "metadata": {},
     "output_type": "execute_result"
    }
   ],
   "source": [
    "loans_4.loan_status_num.value_counts()"
   ]
  },
  {
   "cell_type": "code",
   "execution_count": 55,
   "metadata": {},
   "outputs": [
    {
     "name": "stdout",
     "output_type": "stream",
     "text": [
      "The baseline for the model is 0.7763 and the model scored 0.9653\n",
      "So the model exceeded the baseline by 0.1890\n"
     ]
    }
   ],
   "source": [
    "d_nd = loans_4.loan_status_num.value_counts().tolist()\n",
    "defaults = d_nd[1]\n",
    "non_default = d_nd[0]\n",
    "\n",
    "base_line = 1 - defaults/non_default\n",
    "print('The baseline for the model is %.4f and the model scored %.4f' % (base_line, model_score))\n",
    "print('So the model exceeded the baseline by %.4f' % (model_score - base_line))"
   ]
  },
  {
   "cell_type": "code",
   "execution_count": 56,
   "metadata": {},
   "outputs": [],
   "source": [
    "# Get probability predictions.\n",
    "logit_pred_proba_rf = rf.predict_proba(X_test)[:,1]"
   ]
  },
  {
   "cell_type": "code",
   "execution_count": 57,
   "metadata": {},
   "outputs": [],
   "source": [
    "confusion_matrix_rf = metrics.confusion_matrix(y_true=y_test, y_pred=logit_pred_proba_rf > .5)"
   ]
  },
  {
   "cell_type": "code",
   "execution_count": 58,
   "metadata": {},
   "outputs": [
    {
     "name": "stdout",
     "output_type": "stream",
     "text": [
      "TN = 50280 FP = 1630\n",
      "FN = 573 TP = 11065\n"
     ]
    }
   ],
   "source": [
    "print('TN =', confusion_matrix_rf[0][0], 'FP =', confusion_matrix_rf[0][1])\n",
    "print('FN =', confusion_matrix_rf[1][0], 'TP =', confusion_matrix_rf[1][1])"
   ]
  },
  {
   "cell_type": "code",
   "execution_count": 59,
   "metadata": {},
   "outputs": [],
   "source": [
    "# WHAT FEATURES DID RANDOM FOREST USE?"
   ]
  },
  {
   "cell_type": "code",
   "execution_count": 82,
   "metadata": {},
   "outputs": [],
   "source": [
    "# Questions"
   ]
  },
  {
   "cell_type": "markdown",
   "metadata": {},
   "source": [
    "1) Have I done regression correctly <br>\n",
    "2) my regression doesn't use any categorical variables maybe i need to normalise? <br>\n",
    "3) What about different accuracy metrics? <br>\n",
    "4) How to do decision tree <br>"
   ]
  },
  {
   "cell_type": "markdown",
   "metadata": {},
   "source": [
    "<font color='red'>------------------------------------------------------------------------------------------------------------------</font>"
   ]
  }
 ],
 "metadata": {
  "kernelspec": {
   "display_name": "Python 3",
   "language": "python",
   "name": "python3"
  },
  "language_info": {
   "codemirror_mode": {
    "name": "ipython",
    "version": 3
   },
   "file_extension": ".py",
   "mimetype": "text/x-python",
   "name": "python",
   "nbconvert_exporter": "python",
   "pygments_lexer": "ipython3",
   "version": "3.6.4"
  }
 },
 "nbformat": 4,
 "nbformat_minor": 2
}
